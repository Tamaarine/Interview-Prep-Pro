{
  "nbformat": 4,
  "nbformat_minor": 0,
  "metadata": {
    "colab": {
      "name": "00 Recursion 1.ipynb",
      "provenance": [],
      "collapsed_sections": []
    },
    "kernelspec": {
      "name": "python3",
      "display_name": "Python 3"
    }
  },
  "cells": [
    {
      "cell_type": "markdown",
      "metadata": {
        "id": "_hIPz0sQ0L4s",
        "colab_type": "text"
      },
      "source": [
        "**Recursion**"
      ]
    },
    {
      "cell_type": "code",
      "metadata": {
        "id": "ayXtyxBs0K7z",
        "colab_type": "code",
        "colab": {}
      },
      "source": [
        "def fact(n):\n",
        "    if n == 0:\n",
        "        return 1\n",
        "    return n * fact(n-1)"
      ],
      "execution_count": null,
      "outputs": []
    },
    {
      "cell_type": "code",
      "metadata": {
        "id": "KfImsbxd0xxt",
        "colab_type": "code",
        "colab": {}
      },
      "source": [
        "def fact1(n):\n",
        "    if n  == 0:\n",
        "        return 1\n",
        "    smalloutput = fact(n-1)\n",
        "    return n * fact(n-1)"
      ],
      "execution_count": null,
      "outputs": []
    },
    {
      "cell_type": "code",
      "metadata": {
        "id": "ApaoDX3qARMg",
        "colab_type": "code",
        "colab": {}
      },
      "source": [
        "import sys\n",
        "sys.setrecursionlimit(3000)"
      ],
      "execution_count": null,
      "outputs": []
    },
    {
      "cell_type": "code",
      "metadata": {
        "id": "DZOUP8CS1FLM",
        "colab_type": "code",
        "colab": {
          "base_uri": "https://localhost:8080/",
          "height": 71
        },
        "outputId": "c6a32ead-dbc6-4af2-ec9b-74b360cfd396"
      },
      "source": [
        "n = int(input())\n",
        "fact(n)"
      ],
      "execution_count": null,
      "outputs": [
        {
          "output_type": "stream",
          "text": [
            "2000\n"
          ],
          "name": "stdout"
        },
        {
          "output_type": "execute_result",
          "data": {
            "text/plain": [
              "331627509245063324117539338057632403828111720810578039457193543706038077905600822400273230859732592255402352941225834109258084817415293796131386633526343688905634058556163940605117252571870647856393544045405243957467037674108722970434684158343752431580877533645127487995436859247408032408946561507233250652797655757179671536718689359056112815871601717232657156110004214012420433842573712700175883547796899921283528996665853405579854903657366350133386550401172012152635488038268152152246920995206031564418565480675946497051552288205234899995726450814065536678969532101467622671332026831552205194494461618239275204026529722631502574752048296064750927394165856283531779574482876314596450373991327334177263608852490093506621610144459709412707821313732563831572302019949914958316470942774473870327985549674298608839376326824152478834387469595829257740574539837501585815468136294217949972399813599481016556563876034227312912250384709872909626622461971076605931550201895135583165357871492290916779049702247094611937607785165110684432255905648736266530377384650390788049524600712549402614566072254136302754913671583406097831074945282217490781347709693241556111339828051358600690594619965257310741177081519922564516778571458056602185654760952377463016679422488444485798349801548032620829890965857381751888619376692828279888453584639896594213952984465291092009103710046149449915828588050761867924946385180879874512891408019340074625920057098729578599643650655895612410231018690556060308783629110505601245908998383410799367902052076858669183477906558544700148692656924631933337612428097420067172846361939249698628468719993450393889367270487127172734561700354867477509102955523953547941107421913301356819541091941462766417542161587625262858089801222443890248677182054959415751991701271767571787495861619665931878855141835782092601482071777331735396034304969082070589958701381980813035590160762908388574561288217698136182483576739218303118414719133986892842344000779246691209766731651433494437473235636572048844478331854941693030124531676232745367879322847473824485092283139952509732505979127031047683601481191102229253372697693823670057565612400290576043852852902937606479533458179666123839605262549107186663869354766108455046198102084050635827676526589492393249519685954171672419329530683673495544004586359838161043059449826627530605423580755894108278880427825951089880635410567917950974017780688782869810219010900148352061688883720250310665922068601483649830532782088263536558043605686781284169217133047141176312175895777122637584753123517230990549829210134687304205898014418063875382664169897704237759406280877253702265426530580862379301422675821187143502918637636340300173251818262076039747369595202642632364145446851113427202150458383851010136941313034856221916631623892632765815355011276307825059969158824533457435437863683173730673296589355199694458236873508830278657700879749889992343555566240682834763784685183844973648873952475103224222110561201295829657191368108693825475764118886879346725191246192151144738836269591643672490071653428228152661247800463922544945170363723627940757784542091048305461656190622174286981602973324046520201992813854882681951007282869701070737500927666487502174775372742351508748246720274170031581122805896178122160747437947510950620938556674581252518376682157712807861499255876132352950422346387878954850885764466136290394127665978044202092281337987115900896264878942413210454925003566670632909441579372986743421470507213588932019580723064781498429522595589012754823971773325722910325760929790733299545056388362640474650245080809469116072632087494143973000704111418595530278827357654819182002449697761111346318195282761590964189790958117338627206088910432945244978535147014112442143055486089639578378347325323595763291438925288393986256273242862775563140463830389168421633113445636309571965978466338551492316196335675355138403425804162919837822266909521770153175338730284610841886554138329171951332117895728541662084823682817932512931237521541926970269703299477643823386483008871530373405666383868294088487730721762268849023084934661194260180272613802108005078215741006054848201347859578102770707780655512772540501674332396066253216415004808772403047611929032210154385353138685538486425570790795341176519571188683739880683895792743749683498142923292196309777090143936843655333359307820181312993455024206044563340578606962471961505603394899523321800434359967256623927196435402872055475012079854331970674797313126813523653744085662263206768837585132782896252333284341812977624697079543436003492343159239674763638912115285406657783646213911247447051255226342701239527018127045491648045932248108858674600952306793175967755581011679940005249806303763141344412269037034987355799916009259248075052485541568266281760815446308305406677412630124441864204108373119093130001154470560277773724378067188899770851056727276781247198832857695844217588895160467868204810010047816462358220838532488134270834079868486632162720208823308727819085378845469131556021728873121907393965209260229101477527080930865364979858554010577450279289814603688431821508637246216967872282169347370599286277112447690920902988320166830170273420259765671709863311216349502171264426827119650264054228231759630874475301847194095524263411498469508073390080000000000000000000000000000000000000000000000000000000000000000000000000000000000000000000000000000000000000000000000000000000000000000000000000000000000000000000000000000000000000000000000000000000000000000000000000000000000000000000000000000000000000000000000000000000000000000000000000000000000000000000000000000000000000000000000000000000000000000000000000000000000000000000000000000000000000000000000000000000000000000000000000000000000000000000000000000000000000000000000000000000000000000000"
            ]
          },
          "metadata": {
            "tags": []
          },
          "execution_count": 10
        }
      ]
    },
    {
      "cell_type": "code",
      "metadata": {
        "id": "_43zIY-V1xCN",
        "colab_type": "code",
        "colab": {}
      },
      "source": [
        "def sum_n(n):\n",
        "    if n == 0:\n",
        "        return 0\n",
        "    smalloutput = sum_n(n-1)\n",
        "    output = smalloutput + n\n",
        "    return output"
      ],
      "execution_count": null,
      "outputs": []
    },
    {
      "cell_type": "code",
      "metadata": {
        "id": "3Kl5mlOe34M3",
        "colab_type": "code",
        "colab": {
          "base_uri": "https://localhost:8080/",
          "height": 51
        },
        "outputId": "e5df2d5c-e98f-4880-f0d7-a8cd3d31691c"
      },
      "source": [
        "n = int(input())\n",
        "sum_n(n)"
      ],
      "execution_count": null,
      "outputs": [
        {
          "output_type": "stream",
          "text": [
            "5\n"
          ],
          "name": "stdout"
        },
        {
          "output_type": "execute_result",
          "data": {
            "text/plain": [
              "15"
            ]
          },
          "metadata": {
            "tags": []
          },
          "execution_count": 11
        }
      ]
    },
    {
      "cell_type": "code",
      "metadata": {
        "id": "L8x-HqB4_hAu",
        "colab_type": "code",
        "colab": {}
      },
      "source": [
        "import sys\n",
        "sys.setrecursionlimit(3000)"
      ],
      "execution_count": null,
      "outputs": []
    },
    {
      "cell_type": "markdown",
      "metadata": {
        "id": "su9YiTf_42-e",
        "colab_type": "text"
      },
      "source": [
        "**First N Natural Number**"
      ]
    },
    {
      "cell_type": "code",
      "metadata": {
        "id": "lwTL8IMO4GuW",
        "colab_type": "code",
        "colab": {}
      },
      "source": [
        "def print_1_to_n(n):\n",
        "    if n == 0:\n",
        "        return\n",
        "    print_1_to_n(n-1)\n",
        "    print(n)\n",
        "    return"
      ],
      "execution_count": null,
      "outputs": []
    },
    {
      "cell_type": "code",
      "metadata": {
        "id": "rZHFrdwc617F",
        "colab_type": "code",
        "colab": {
          "base_uri": "https://localhost:8080/",
          "height": 119
        },
        "outputId": "7c4f6de4-528e-4231-852f-1c9f12ba9746"
      },
      "source": [
        "n = int(input())\n",
        "print_1_to_n(n)"
      ],
      "execution_count": null,
      "outputs": [
        {
          "output_type": "stream",
          "text": [
            "5\n",
            "1\n",
            "2\n",
            "3\n",
            "4\n",
            "5\n"
          ],
          "name": "stdout"
        }
      ]
    },
    {
      "cell_type": "markdown",
      "metadata": {
        "id": "DrqNPlcf8Y7Z",
        "colab_type": "text"
      },
      "source": [
        "**Power of a Number**"
      ]
    },
    {
      "cell_type": "code",
      "metadata": {
        "id": "nIFPNtnc8dt3",
        "colab_type": "code",
        "colab": {}
      },
      "source": [
        "def power(x, n):\n",
        "    if (n == 0): return 1\n",
        "    elif (int(n % 2) == 0): \n",
        "        return (power(x, int(n / 2)) *\n",
        "               power(x, int(n / 2))) \n",
        "    else: \n",
        "        return (x * power(x, int(n / 2)) *\n",
        "                   power(x, int(n / 2)))"
      ],
      "execution_count": null,
      "outputs": []
    },
    {
      "cell_type": "code",
      "metadata": {
        "id": "WhejsmK74Hkj",
        "colab_type": "code",
        "colab": {
          "base_uri": "https://localhost:8080/",
          "height": 51
        },
        "outputId": "8d38a981-a6c9-4fde-927f-7f74945df3d4"
      },
      "source": [
        "x ,n = list(map(int, input().split()))\n",
        "print(power(x,n))"
      ],
      "execution_count": null,
      "outputs": [
        {
          "output_type": "stream",
          "text": [
            "2 4\n",
            "16\n"
          ],
          "name": "stdout"
        }
      ]
    },
    {
      "cell_type": "markdown",
      "metadata": {
        "id": "Ug-5Swsi79sz",
        "colab_type": "text"
      },
      "source": [
        "**Fibonacci Number**"
      ]
    },
    {
      "cell_type": "code",
      "metadata": {
        "id": "za0OUa_TvKOH",
        "colab_type": "code",
        "colab": {}
      },
      "source": [
        "def fib(n):\n",
        "    if n == 1 or n == 2:\n",
        "        return 1\n",
        "    fib_n_1 = (n-1)\n",
        "    fib_n_2 = (n-2)\n",
        "    output =  fib_n_1 + fib_n_2\n",
        "    return output"
      ],
      "execution_count": null,
      "outputs": []
    },
    {
      "cell_type": "code",
      "metadata": {
        "id": "DMRFHyhsxLOL",
        "colab_type": "code",
        "colab": {
          "base_uri": "https://localhost:8080/",
          "height": 34
        },
        "outputId": "ab411666-9ecd-4608-a222-175bb5d77c05"
      },
      "source": [
        "n = 4\n",
        "fib(n)"
      ],
      "execution_count": null,
      "outputs": [
        {
          "output_type": "execute_result",
          "data": {
            "text/plain": [
              "5"
            ]
          },
          "metadata": {
            "tags": []
          },
          "execution_count": 17
        }
      ]
    },
    {
      "cell_type": "markdown",
      "metadata": {
        "id": "f_hvc5NNHiKQ",
        "colab_type": "text"
      },
      "source": [
        "**Check Sorted List**\n"
      ]
    },
    {
      "cell_type": "code",
      "metadata": {
        "id": "octEMWG__enL",
        "colab_type": "code",
        "colab": {}
      },
      "source": [
        "def isSorted(a):\n",
        "    l = len(a)\n",
        "    if l == 0 or l == 1:\n",
        "        return True\n",
        "    if a[0] > a[1]:\n",
        "        return False\n",
        "\n",
        "    smallerList = a[1:]\n",
        "    issmallerListSorted = isSorted(smallerList)\n",
        "    if issmallerListSorted:\n",
        "        return True\n",
        "    else:\n",
        "        return False"
      ],
      "execution_count": null,
      "outputs": []
    },
    {
      "cell_type": "code",
      "metadata": {
        "id": "HW5U3JR4OSDn",
        "colab_type": "code",
        "colab": {
          "base_uri": "https://localhost:8080/",
          "height": 51
        },
        "outputId": "80d2fae5-4d92-46df-c542-356c2b6d2422"
      },
      "source": [
        "a = list(map(int, input().split()))\n",
        "isSorted(a)"
      ],
      "execution_count": null,
      "outputs": [
        {
          "output_type": "stream",
          "text": [
            "2 4 6 9\n"
          ],
          "name": "stdout"
        },
        {
          "output_type": "execute_result",
          "data": {
            "text/plain": [
              "True"
            ]
          },
          "metadata": {
            "tags": []
          },
          "execution_count": 13
        }
      ]
    },
    {
      "cell_type": "markdown",
      "metadata": {
        "id": "ANtyun8QUM7T",
        "colab_type": "text"
      },
      "source": [
        "**Sum of Array**"
      ]
    },
    {
      "cell_type": "code",
      "metadata": {
        "id": "ySwkds8AOrJs",
        "colab_type": "code",
        "colab": {
          "base_uri": "https://localhost:8080/",
          "height": 255
        },
        "outputId": "639c228a-05fa-41d5-e80b-93dc264694a4"
      },
      "source": [
        "def sumArray(arr):\n",
        "    print(type(arr))\n",
        "    print(arr)\n",
        "    if len(arr) == 0:\n",
        "        return 0\n",
        "    else:\n",
        "        return arr[0] + sumArray(arr[1:])\n",
        "\n",
        "from sys import setrecursionlimit\n",
        "setrecursionlimit(11000)\n",
        "n=int(input())\n",
        "arr=list(map(int,input().split()))\n",
        "print(sumArray(arr))\n",
        "print(arr)"
      ],
      "execution_count": null,
      "outputs": [
        {
          "output_type": "stream",
          "text": [
            "4\n",
            "3 6 11 19\n",
            "<class 'list'>\n",
            "[3, 6, 11, 19]\n",
            "<class 'list'>\n",
            "[6, 11, 19]\n",
            "<class 'list'>\n",
            "[11, 19]\n",
            "<class 'list'>\n",
            "[19]\n",
            "<class 'list'>\n",
            "[]\n",
            "39\n",
            "[3, 6, 11, 19]\n"
          ],
          "name": "stdout"
        }
      ]
    },
    {
      "cell_type": "markdown",
      "metadata": {
        "id": "6pDoUnslgU9E",
        "colab_type": "text"
      },
      "source": [
        "**Check Number in Array**"
      ]
    },
    {
      "cell_type": "code",
      "metadata": {
        "id": "4C1Td7wMgcXZ",
        "colab_type": "code",
        "colab": {
          "base_uri": "https://localhost:8080/",
          "height": 85
        },
        "outputId": "e6e1cd84-8e83-4725-b517-ff5361e51b2c"
      },
      "source": [
        "def checkNumber(arr, x):\n",
        "    if len(arr) == 0:\n",
        "        return False\n",
        "    elif arr[0] ==  x:\n",
        "        return True\n",
        "    else:\n",
        "    \treturn checkNumber(arr[1:],x)\n",
        "    \n",
        "\n",
        "\n",
        "from sys import setrecursionlimit\n",
        "setrecursionlimit(11000)\n",
        "n=int(input())\n",
        "arr=list(map(int, input().split()))\n",
        "x=int(input())\n",
        "if checkNumber(arr, x):\n",
        "    print('true')\n",
        "else:\n",
        "    print('false')"
      ],
      "execution_count": null,
      "outputs": [
        {
          "output_type": "stream",
          "text": [
            "3\n",
            "1 3 7\n",
            "7\n",
            "true\n"
          ],
          "name": "stdout"
        }
      ]
    },
    {
      "cell_type": "markdown",
      "metadata": {
        "id": "HxHVZyVZC1Ul",
        "colab_type": "text"
      },
      "source": [
        "**Check Sorted List Optimized** "
      ]
    },
    {
      "cell_type": "code",
      "metadata": {
        "id": "LZ6A2Uy0DEeW",
        "colab_type": "code",
        "colab": {}
      },
      "source": [
        "def isSortedbetter(a,si):\n",
        "    l = len(a)\n",
        "    if si == l-1 or si == l:\n",
        "        return True\n",
        "    if a[si] > a[si+1]:\n",
        "        return False\n",
        "    \n",
        "    isSmallerPartSorted = isSortedbetter(a,si+1)\n",
        "    return isSmallerPartSorted"
      ],
      "execution_count": null,
      "outputs": []
    },
    {
      "cell_type": "code",
      "metadata": {
        "id": "KMbdPgdsEper",
        "colab_type": "code",
        "colab": {
          "base_uri": "https://localhost:8080/",
          "height": 51
        },
        "outputId": "00d4f4e7-fd43-4298-a969-927349b77e16"
      },
      "source": [
        "n = list(map(int, input().split()))\n",
        "isSortedbetter(a, 1)"
      ],
      "execution_count": null,
      "outputs": [
        {
          "output_type": "stream",
          "text": [
            "2 4 9 11\n"
          ],
          "name": "stdout"
        },
        {
          "output_type": "execute_result",
          "data": {
            "text/plain": [
              "True"
            ]
          },
          "metadata": {
            "tags": []
          },
          "execution_count": 27
        }
      ]
    },
    {
      "cell_type": "markdown",
      "metadata": {
        "id": "TTmUUHLRo6JG",
        "colab_type": "text"
      },
      "source": [
        "**First Index of Number**"
      ]
    },
    {
      "cell_type": "code",
      "metadata": {
        "id": "8tJWWUvlo_E_",
        "colab_type": "code",
        "colab": {
          "base_uri": "https://localhost:8080/",
          "height": 85
        },
        "outputId": "a21f63f1-9f38-495f-8e93-af21f155da83"
      },
      "source": [
        "def firstIndex(arr, x):\n",
        "    l = len(arr)\n",
        "    if l == 0:\n",
        "        return -1\n",
        "    \n",
        "    if arr[0] == x:\n",
        "        return 0\n",
        "    \n",
        "    smallerList = arr[1:]\n",
        "    smallerListOutput = firstIndex(smallerList, x)\n",
        "    if smallerListOutput == -1:\n",
        "        return -1\n",
        "    else:\n",
        "        return smallerListOutput + 1\n",
        "    \n",
        "from sys import setrecursionlimit\n",
        "setrecursionlimit(11000)\n",
        "n=int(input())\n",
        "arr=list(map(int,input().split()))\n",
        "x=int(input())\n",
        "print(firstIndex(arr, x))"
      ],
      "execution_count": null,
      "outputs": [
        {
          "output_type": "stream",
          "text": [
            "4\n",
            "8 9 10 8\n",
            "9\n",
            "1\n"
          ],
          "name": "stdout"
        }
      ]
    },
    {
      "cell_type": "code",
      "metadata": {
        "id": "Egd_8zrE4PUd",
        "colab_type": "code",
        "colab": {}
      },
      "source": [
        "def firstIndexBetter(a, si, x):\n",
        "    l = len(a)\n",
        "    if si == 1:\n",
        "        return -1\n",
        "    if a[si] == x:\n",
        "        return si\n",
        "    smallerListOutput = firstIndexBetter(a,si,x)\n",
        "    return smallerListOutput"
      ],
      "execution_count": null,
      "outputs": []
    },
    {
      "cell_type": "markdown",
      "metadata": {
        "id": "rqdKa3IpCHHP",
        "colab_type": "text"
      },
      "source": [
        "**Last Index of Number**"
      ]
    },
    {
      "cell_type": "code",
      "metadata": {
        "id": "1Ma8Mq1nCMpP",
        "colab_type": "code",
        "colab": {}
      },
      "source": [
        "def lastIndex(a,x):\n",
        "    l = len(a)\n",
        "    if l == 0:\n",
        "        return -1\n",
        "    smallerList = a[1:]\n",
        "    smallerListOutput = lastIndex(smallerList,x)\n",
        "    if smallerListOutput != -1:\n",
        "        return smallerListOutput + 1\n",
        "    else:\n",
        "        if a[0] == x:\n",
        "            return 0\n",
        "        else:\n",
        "            return -1"
      ],
      "execution_count": 1,
      "outputs": []
    },
    {
      "cell_type": "code",
      "metadata": {
        "id": "l09u6JO--VLF",
        "colab_type": "code",
        "colab": {
          "base_uri": "https://localhost:8080/",
          "height": 85
        },
        "outputId": "fa82f330-2c27-4fce-d631-ec03db07e33b"
      },
      "source": [
        "from sys import setrecursionlimit\n",
        "setrecursionlimit(11000)\n",
        "n=int(input())\n",
        "arr=list(map(int,input().split()))\n",
        "x=int(input())\n",
        "print(lastIndex(arr, x))"
      ],
      "execution_count": 2,
      "outputs": [
        {
          "output_type": "stream",
          "text": [
            "4\n",
            "8 9 10 9\n",
            "9\n",
            "3\n"
          ],
          "name": "stdout"
        }
      ]
    },
    {
      "cell_type": "markdown",
      "metadata": {
        "id": "nBtHwhLjAIIl",
        "colab_type": "text"
      },
      "source": [
        "**Last Index of Number optimized**"
      ]
    },
    {
      "cell_type": "code",
      "metadata": {
        "id": "LStVH5EZ-ZZf",
        "colab_type": "code",
        "colab": {}
      },
      "source": [
        "def LastIndexBetter(a,x,si):\n",
        "    l = len(a)\n",
        "    if si == 1:\n",
        "        return -1\n",
        "\n",
        "    smallerListOutput = LastIndexBetter(a,x, si+1)\n",
        "    if smallerListOutput != -1:\n",
        "        return smallerListOutput\n",
        "    else:\n",
        "        if a[si] == x:\n",
        "            return si\n",
        "        else:\n",
        "            return -1"
      ],
      "execution_count": 15,
      "outputs": []
    }
  ]
}