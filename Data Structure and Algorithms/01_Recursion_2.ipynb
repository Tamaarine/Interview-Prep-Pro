{
  "nbformat": 4,
  "nbformat_minor": 0,
  "metadata": {
    "colab": {
      "name": "01 Recursion 2.ipynb",
      "provenance": [],
      "collapsed_sections": []
    },
    "kernelspec": {
      "name": "python3",
      "display_name": "Python 3"
    }
  },
  "cells": [
    {
      "cell_type": "markdown",
      "metadata": {
        "id": "8AmHz3Zfr5Y7",
        "colab_type": "text"
      },
      "source": [
        "**Replacing Characters with strings**"
      ]
    },
    {
      "cell_type": "code",
      "metadata": {
        "id": "QN39Zx9zkftc",
        "colab_type": "code",
        "colab": {}
      },
      "source": [
        "def replaceChar(s,a,b):\n",
        "    if len(s) == 0:\n",
        "        return s\n",
        "    smallOutput =  replaceChar(s[1:],a,b)\n",
        "    if s[0] == a:\n",
        "        return b + smallOutput\n",
        "    else:\n",
        "        return s[0] + smallOutput    "
      ],
      "execution_count": null,
      "outputs": []
    },
    {
      "cell_type": "code",
      "metadata": {
        "id": "jfVC1U3Dr3DL",
        "colab_type": "code",
        "colab": {
          "base_uri": "https://localhost:8080/",
          "height": 35
        },
        "outputId": "867d37e0-00e2-4a30-ebfa-5b6382fea5f4"
      },
      "source": [
        "replaceChar(\"dacxcfc\", 'c','x')"
      ],
      "execution_count": null,
      "outputs": [
        {
          "output_type": "execute_result",
          "data": {
            "application/vnd.google.colaboratory.intrinsic+json": {
              "type": "string"
            },
            "text/plain": [
              "'daxxxfx'"
            ]
          },
          "metadata": {
            "tags": []
          },
          "execution_count": 5
        }
      ]
    },
    {
      "cell_type": "markdown",
      "metadata": {
        "id": "yJh9PTgJCLzb",
        "colab_type": "text"
      },
      "source": [
        "**Removing X from the string**"
      ]
    },
    {
      "cell_type": "code",
      "metadata": {
        "id": "clfIvTFNsPef",
        "colab_type": "code",
        "colab": {
          "base_uri": "https://localhost:8080/",
          "height": 51
        },
        "outputId": "74c4495b-2a19-44df-e0fa-23f8ab100460"
      },
      "source": [
        "def removeX(string):\n",
        "    if len(string) == 0:\n",
        "        return string\n",
        "    smallOutput = removeX(string[1:])\n",
        "    if string[0] == 'x':\n",
        "        return smallOutput\n",
        "    else:\n",
        "        return string[0] + smallOutput\n",
        "    \n",
        "string = input()\n",
        "print(removeX(string))"
      ],
      "execution_count": null,
      "outputs": [
        {
          "output_type": "stream",
          "text": [
            "abcxxmnxx\n",
            "abcmn\n"
          ],
          "name": "stdout"
        }
      ]
    },
    {
      "cell_type": "markdown",
      "metadata": {
        "id": "uG-Ygey5D7jD",
        "colab_type": "text"
      },
      "source": [
        "**Replace 'p','i' in a String with 3.14**"
      ]
    },
    {
      "cell_type": "code",
      "metadata": {
        "id": "3eLgyzubCTxv",
        "colab_type": "code",
        "colab": {}
      },
      "source": [
        "def replacePi(s):\n",
        "    if len(s)  == 0 or len(s) == 1:\n",
        "        return s\n",
        "    elif s[0] == 'p' and s[1] == 'i':\n",
        "        smallOutput = replacePi(s[2:])\n",
        "        return \"3.14\"+ smallOutput\n",
        "    else:\n",
        "        smallOutput = replacePi(s[1:])\n",
        "        return s[0]+ smallOutput"
      ],
      "execution_count": null,
      "outputs": []
    },
    {
      "cell_type": "code",
      "metadata": {
        "id": "jndteZ_LLGWi",
        "colab_type": "code",
        "colab": {
          "base_uri": "https://localhost:8080/",
          "height": 35
        },
        "outputId": "6f08fff5-d9b2-4707-b20b-3fbd91fe811a"
      },
      "source": [
        "replacePi(\"piabpi\")"
      ],
      "execution_count": null,
      "outputs": [
        {
          "output_type": "execute_result",
          "data": {
            "application/vnd.google.colaboratory.intrinsic+json": {
              "type": "string"
            },
            "text/plain": [
              "'3.14ab3.14'"
            ]
          },
          "metadata": {
            "tags": []
          },
          "execution_count": 24
        }
      ]
    },
    {
      "cell_type": "markdown",
      "metadata": {
        "id": "pXJa3SYwUHEa",
        "colab_type": "text"
      },
      "source": [
        "**Remove Consecutive duplicates from String**"
      ]
    },
    {
      "cell_type": "code",
      "metadata": {
        "id": "zv7kjJJlTxfH",
        "colab_type": "code",
        "colab": {
          "base_uri": "https://localhost:8080/",
          "height": 51
        },
        "outputId": "8281d91e-7a83-4ca4-ed13-bb53beb98923"
      },
      "source": [
        "def removeConsecutiveDuplicates(string):\n",
        "    if len(string) == 1:\n",
        "        return string\n",
        "    \n",
        "    elif string[0] == string[1]:\n",
        "        smallOutput = removeConsecutiveDuplicates(string[1:])\n",
        "        return smallOutput   \n",
        "    \n",
        "    else:\n",
        "        nextOutput = removeConsecutiveDuplicates(string[1:])\n",
        "        return string[0] + nextOutput\n",
        "\n",
        "string = input().strip()\n",
        "print(removeConsecutiveDuplicates(string))"
      ],
      "execution_count": null,
      "outputs": [
        {
          "output_type": "stream",
          "text": [
            "xxxyyyzz\n",
            "xyz\n"
          ],
          "name": "stdout"
        }
      ]
    },
    {
      "cell_type": "markdown",
      "metadata": {
        "id": "LStrHBeN8Wir",
        "colab_type": "text"
      },
      "source": [
        "**Binary Search Using Recursion**"
      ]
    },
    {
      "cell_type": "code",
      "metadata": {
        "id": "rqTRLAWs8eRh",
        "colab_type": "code",
        "colab": {}
      },
      "source": [
        "def binarySearch(a, x, si,ei):\n",
        "    if si>ei:\n",
        "        return -1\n",
        "    mid = (si+ei)//2\n",
        "    if a[mid] == x:\n",
        "        return mid\n",
        "    elif a[mid] > x:\n",
        "        return binarySearch(a,x,si,mid-1)\n",
        "    else:\n",
        "        return binarySearch(a,x,mid+1, ei) "
      ],
      "execution_count": null,
      "outputs": []
    },
    {
      "cell_type": "code",
      "metadata": {
        "id": "BUevE8dgBD5r",
        "colab_type": "code",
        "colab": {
          "base_uri": "https://localhost:8080/",
          "height": 51
        },
        "outputId": "76979526-1927-4c8e-be46-807f3e078358"
      },
      "source": [
        "a = list(map(int, input().split()))\n",
        "print(binarySearch(a,3,0,4))"
      ],
      "execution_count": null,
      "outputs": [
        {
          "output_type": "stream",
          "text": [
            "1 3 5 7 9\n",
            "1\n"
          ],
          "name": "stdout"
        }
      ]
    },
    {
      "cell_type": "markdown",
      "metadata": {
        "id": "xd-W1TNOiV2l",
        "colab_type": "text"
      },
      "source": [
        "**Merge Sort**"
      ]
    },
    {
      "cell_type": "code",
      "metadata": {
        "id": "eDJMFteCBtJm",
        "colab_type": "code",
        "colab": {}
      },
      "source": [
        "def merge(a1,a2,a):\n",
        "    i = 0\n",
        "    j = 0\n",
        "    k = 0\n",
        "    while i < len(a1) and j < len(a2):\n",
        "        if (a1[i] < a2[j]):\n",
        "            a[k] = a1[i]\n",
        "            k = k + 1\n",
        "            i = i + 1\n",
        "        else:\n",
        "            a[k] = a2[j]\n",
        "            k = k + 1\n",
        "            j = j + 1\n",
        "    while i < len(a1):\n",
        "            a[k] = a1[i]\n",
        "            k = k + 1\n",
        "            i = i + 1\n",
        "    while j < len(a2):\n",
        "            a[k] = a2[j]\n",
        "            k = k + 1\n",
        "            j = j + 1"
      ],
      "execution_count": null,
      "outputs": []
    },
    {
      "cell_type": "code",
      "metadata": {
        "id": "3w2I-in2wzvh",
        "colab_type": "code",
        "colab": {}
      },
      "source": [
        "def merge_sort(a):\n",
        "    if len(a) == 0 or len(a) == 1:\n",
        "        return\n",
        "    mid = len(a)//2\n",
        "    a1 = a[0:mid]\n",
        "    a2 = a[mid:]\n",
        "\n",
        "    merge_sort(a1)\n",
        "    merge_sort(a2)\n",
        "\n",
        "    merge(a1,a2,a)"
      ],
      "execution_count": null,
      "outputs": []
    },
    {
      "cell_type": "code",
      "metadata": {
        "id": "gDa6T7sTyaqs",
        "colab_type": "code",
        "colab": {
          "base_uri": "https://localhost:8080/",
          "height": 51
        },
        "outputId": "b2be63e9-408a-4be1-a6be-39c0933726ec"
      },
      "source": [
        "a = list(map(int,input().split()))\n",
        "merge_sort(a)\n",
        "a"
      ],
      "execution_count": null,
      "outputs": [
        {
          "output_type": "stream",
          "text": [
            "1 5 7 9 3 4\n"
          ],
          "name": "stdout"
        },
        {
          "output_type": "execute_result",
          "data": {
            "text/plain": [
              "[1, 3, 4, 5, 7, 9]"
            ]
          },
          "metadata": {
            "tags": []
          },
          "execution_count": 11
        }
      ]
    },
    {
      "cell_type": "markdown",
      "metadata": {
        "id": "9x9sX3dxzUHo",
        "colab_type": "text"
      },
      "source": [
        "**Quick Sort**"
      ]
    },
    {
      "cell_type": "code",
      "metadata": {
        "id": "ZQsnnYxjf1AL",
        "colab_type": "code",
        "colab": {}
      },
      "source": [
        "\n",
        "def partition(a, si, ei):\n",
        "    pivot = a[si]\n",
        "      \n",
        "    count = 0\n",
        "    \n",
        "    for i in range(si, ei+1):\n",
        "        if a[i] < pivot:\n",
        "            count = count + 1\n",
        "    \n",
        "    a[si+count], a[si] = a[si], a[si+count]\n",
        "    pivot_index = si + count\n",
        "    \n",
        "    i = si\n",
        "    j = ei\n",
        "\n",
        "    while i < j:\n",
        "      if a[i] < pivot:\n",
        "        i = i + 1\n",
        "      elif a[j] >= pivot:\n",
        "        j = j - 1\n",
        "      else:\n",
        "        a[i], a[j] = a[j], a[i]\n",
        "        i = i + 1\n",
        "        j = j - 1\n",
        "        \n",
        "    return pivot_index"
      ],
      "execution_count": 7,
      "outputs": []
    },
    {
      "cell_type": "code",
      "metadata": {
        "id": "QbYnWah6zXW7",
        "colab_type": "code",
        "colab": {}
      },
      "source": [
        "def quick_sort(a, si, ei):\n",
        "    if si >= ei:\n",
        "        return \n",
        "    \n",
        "    pivot_index = partition(a, si, ei)\n",
        "    quick_sort(a, si, pivot_index-1)\n",
        "    quick_sort(a, pivot_index+1, ei)"
      ],
      "execution_count": 8,
      "outputs": []
    },
    {
      "cell_type": "code",
      "metadata": {
        "id": "6ZNmb3CjkAPL",
        "colab_type": "code",
        "colab": {
          "base_uri": "https://localhost:8080/",
          "height": 34
        },
        "outputId": "7b98c5da-e734-4342-ab69-2795ea1aecc0"
      },
      "source": [
        "a = [10,9,8,7,1,3,5,4,2]\n",
        "quick_sort(a, 0, len(a)-1)\n",
        "a"
      ],
      "execution_count": 9,
      "outputs": [
        {
          "output_type": "execute_result",
          "data": {
            "text/plain": [
              "[1, 2, 3, 4, 5, 7, 8, 9, 10]"
            ]
          },
          "metadata": {
            "tags": []
          },
          "execution_count": 9
        }
      ]
    },
    {
      "cell_type": "markdown",
      "metadata": {
        "id": "tvhR5PmjsGpD",
        "colab_type": "text"
      },
      "source": [
        "**Tower of Hanoi**"
      ]
    },
    {
      "cell_type": "code",
      "metadata": {
        "id": "V812eFfKoaYa",
        "colab_type": "code",
        "colab": {}
      },
      "source": [
        "def tower_hanoi(n,a,b,c):\n",
        "    if n == 1:\n",
        "        print(\"move 1st disk from\", a ,\"to\", c )\n",
        "        return\n",
        "    tower_hanoi(n-1,a,c,b)\n",
        "    print(\"move\",n, \"th disk from\",a,\"to\",c)\n",
        "    tower_hanoi(n-1,b,a,c)"
      ],
      "execution_count": 15,
      "outputs": []
    },
    {
      "cell_type": "code",
      "metadata": {
        "id": "BOA1K6nbvEA7",
        "colab_type": "code",
        "colab": {
          "base_uri": "https://localhost:8080/",
          "height": 68
        },
        "outputId": "9b4e80aa-bb59-4d8e-dd12-303a5948310a"
      },
      "source": [
        "tower_hanoi(2,\"s\",\"h\",\"d\")"
      ],
      "execution_count": 16,
      "outputs": [
        {
          "output_type": "stream",
          "text": [
            "move 1st disk from s to h\n",
            "move 2 th disk from s to d\n",
            "move 1st disk from h to d\n"
          ],
          "name": "stdout"
        }
      ]
    }
  ]
}