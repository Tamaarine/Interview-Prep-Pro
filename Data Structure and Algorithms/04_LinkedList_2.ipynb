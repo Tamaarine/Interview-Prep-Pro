{
  "nbformat": 4,
  "nbformat_minor": 0,
  "metadata": {
    "colab": {
      "name": "04_LinkedList_2.ipynb",
      "provenance": []
    },
    "kernelspec": {
      "name": "python3",
      "display_name": "Python 3"
    }
  },
  "cells": [
    {
      "cell_type": "markdown",
      "metadata": {
        "id": "VuYZZRt5CSCv"
      },
      "source": [
        "**Reverse LL (Recursive)**"
      ]
    },
    {
      "cell_type": "code",
      "metadata": {
        "id": "JXGlGp7t9suf"
      },
      "source": [
        "def reverseLinkedListRec(head):\n",
        "    if head is None or head.next is None:\n",
        "        return head\n",
        "    smallHead = reverseLinkedListRec(head.next)\n",
        "    \n",
        "    head.next.next = head\n",
        "    head.next = None\n",
        "    \n",
        "    return smallHead"
      ],
      "execution_count": null,
      "outputs": []
    },
    {
      "cell_type": "markdown",
      "metadata": {
        "id": "RX878KyjCXxv"
      },
      "source": [
        "**Reverse LL (Iterative)**"
      ]
    },
    {
      "cell_type": "code",
      "metadata": {
        "id": "7YRSUQnyCP9S"
      },
      "source": [
        "def reverse(head):\n",
        "    curr = head\n",
        "    prev = None\n",
        "    while curr is not None:\n",
        "        next = curr.next\n",
        "        curr.next = prev\n",
        "        prev = curr\n",
        "        curr = next\n",
        "    head = prev         \n",
        "    return head"
      ],
      "execution_count": null,
      "outputs": []
    },
    {
      "cell_type": "markdown",
      "metadata": {
        "id": "28yfjtjICi5l"
      },
      "source": [
        "**Midpoint of Linked list**"
      ]
    },
    {
      "cell_type": "code",
      "metadata": {
        "id": "KF37lHSNCeZU"
      },
      "source": [
        "def midPoint(head):\n",
        "    \n",
        "    if head is None:\n",
        "        return None\n",
        "    \n",
        "    slow = fast = head\n",
        "    while fast.next and fast.next.next:\n",
        "        slow = slow.next\n",
        "        fast = fast.next.next\n",
        "    return slow "
      ],
      "execution_count": null,
      "outputs": []
    },
    {
      "cell_type": "markdown",
      "metadata": {
        "id": "8RJNwUgqK272"
      },
      "source": [
        "**Merge Sort**"
      ]
    },
    {
      "cell_type": "code",
      "metadata": {
        "id": "PH46lF7XMAMV"
      },
      "source": [
        "def merge(head1,head2):\n",
        "\n",
        "    fh = Node(3)\n",
        "    ft = fh       \n",
        "    while head1 is not None and head2 is not None:\n",
        "        if head1.data < head2.data:\n",
        "            ft.next = head1\n",
        "            ft = ft.next\n",
        "            head1 = head1.next\n",
        "        else:\n",
        "            ft.next = head2\n",
        "            ft = ft.next\n",
        "            head2 = head2.next\n",
        "            \n",
        "    while head1 is not None:\n",
        "        ft.next = head1\n",
        "        ft = ft.next\n",
        "        head1 = head1.next\n",
        "    \n",
        "    while head2 is not None:\n",
        "        ft.next = head2\n",
        "        ft = ft.next    \n",
        "        head2 = head2.next\n",
        "    \n",
        "    return fh.next\n",
        "\n",
        "def mergeSort(head):\n",
        "    if head is None:\n",
        "        return None\n",
        "    \n",
        "    if head.next is None:\n",
        "      return head\n",
        "\n",
        "    mid = midPoint(head)\n",
        "\n",
        "    h1 = head\n",
        "    temp = head\n",
        "    while temp is not mid:\n",
        "        temp = temp.next\n",
        "    h2 = temp.next       \n",
        "    temp.next = None\n",
        "\n",
        "    h1 = mergeSort(h1)\n",
        "    h2 = mergeSort(h2)\n",
        "    \n",
        "    return merge(h1, h2)\n",
        "\n",
        "def midPoint(head):\n",
        "    \n",
        "    if head is None:\n",
        "        return None\n",
        "    \n",
        "    slow = fast = head\n",
        "    while fast.next and fast.next.next:\n",
        "        slow = slow.next\n",
        "        fast = fast.next.next\n",
        "    return slow "
      ],
      "execution_count": 1,
      "outputs": []
    },
    {
      "cell_type": "markdown",
      "metadata": {
        "id": "0RO1ZJBQLFeH"
      },
      "source": [
        "**Find a node in LL (recursive)**"
      ]
    },
    {
      "cell_type": "code",
      "metadata": {
        "id": "rn5HPGJYLLs2"
      },
      "source": [
        "def findNodeRec(head, n):\n",
        "    count=0\n",
        "    while head is not None:\n",
        "        if head.data==n:\n",
        "            return count\n",
        "        count=count+1\n",
        "        head=head.next\n",
        "    return -1    "
      ],
      "execution_count": 2,
      "outputs": []
    },
    {
      "cell_type": "markdown",
      "metadata": {
        "id": "RExtyyErLQ_s"
      },
      "source": [
        "**Even after Odd LinkedList**"
      ]
    },
    {
      "cell_type": "code",
      "metadata": {
        "id": "5NusaFUqLN75"
      },
      "source": [
        "def evenAfterOdd(head):\n",
        "    end = head \n",
        "    prev = None\n",
        "    curr = head\n",
        "    \n",
        "    if head is None:\n",
        "        return None\n",
        "    \n",
        "    while (end.next != None): \n",
        "        end = end.next\n",
        "    new_end = end \n",
        "    while (curr.data % 2 ==0 and curr != end): \n",
        "        new_end.next = curr \n",
        "        curr = curr.next\n",
        "        new_end.next.next = None\n",
        "        new_end = new_end.next\n",
        "    if (curr.data % 2 != 0): \n",
        "        head = curr \n",
        "        while (curr != end): \n",
        "              \n",
        "            if (curr.data % 2 != 0): \n",
        "                prev = curr \n",
        "                curr = curr.next\n",
        "                  \n",
        "            else: \n",
        "                prev.next = curr.next\n",
        "                curr.next = None\n",
        "                new_end.next = curr \n",
        "                new_end = curr \n",
        "                curr = prev.next\n",
        "    else: \n",
        "        prev = curr \n",
        "    if (new_end != end and end.data % 2 == 0): \n",
        "        prev.next = end.next\n",
        "        end.next = None\n",
        "        new_end.next = end \n",
        "    return head "
      ],
      "execution_count": 3,
      "outputs": []
    },
    {
      "cell_type": "markdown",
      "metadata": {
        "id": "euLsuzTyLgWu"
      },
      "source": [
        "**Bubble Sort (Iterative) LinkedList**"
      ]
    },
    {
      "cell_type": "code",
      "metadata": {
        "id": "Ie_sjuq3LXHN"
      },
      "source": [
        "def bubbleSort(head):\n",
        "    if head==None:\n",
        "        return\n",
        "    lptr=None\n",
        "    ptr1=None\n",
        "    swapped=1\n",
        "    while(swapped):\n",
        "        swapped=0\n",
        "        ptr1=head\n",
        "        while(ptr1.next!=lptr):\n",
        "            if ptr1.data>ptr1.next.data:\n",
        "                ptr1.data,ptr1.next.data=ptr1.next.data,ptr1.data\n",
        "                swapped=1\n",
        "            ptr1=ptr1.next\n",
        "        lptr=ptr1    \n",
        "    return head"
      ],
      "execution_count": 4,
      "outputs": []
    },
    {
      "cell_type": "markdown",
      "metadata": {
        "id": "Cw5304pAMBKT"
      },
      "source": [
        "**Swap two Nodes of LL**"
      ]
    },
    {
      "cell_type": "code",
      "metadata": {
        "id": "CuadrHOKLlDx"
      },
      "source": [
        "def swapNodes(head, i, j):\n",
        "    if i==j:\n",
        "        return head\n",
        "    curr,previ,curri,prevj,currj=head,None,head,None,head\n",
        "    count=0\n",
        "    while(curr!=None):\n",
        "        if count+1==i:\n",
        "            previ=curr\n",
        "            curri=curr.next\n",
        "        if count+1==j:\n",
        "            prevj=curr\n",
        "            currj=curr.next\n",
        "        count=count+1\n",
        "        curr=curr.next\n",
        "    if curri==None or currj==None:\n",
        "        return head\n",
        "    if previ!=None:\n",
        "        previ.next=currj\n",
        "    else:\n",
        "        head=currj\n",
        "    if prevj!=None:\n",
        "        prevj.next=curri\n",
        "    else:\n",
        "        head=curri\n",
        "    temp=curri.next\n",
        "    curri.next=currj.next\n",
        "    currj.next=temp\n",
        "    return head"
      ],
      "execution_count": 5,
      "outputs": []
    },
    {
      "cell_type": "markdown",
      "metadata": {
        "id": "3G0gBMk9NVez"
      },
      "source": [
        "**Delete every N nodes**"
      ]
    },
    {
      "cell_type": "code",
      "metadata": {
        "id": "7_7zeg2pMGcN"
      },
      "source": [
        "def skipMdeleteN(head, M, N) :\n",
        "        \n",
        "    if M==0 or head is None:\n",
        "        return None\n",
        "    if N == 0:\n",
        "        return head\n",
        "    curr=head\n",
        "    t = None\n",
        "    while(curr):\n",
        "        for count in range(1, M):\n",
        "            \n",
        "            if curr is None: \n",
        "                 return head\n",
        "            curr = curr.next\n",
        "                      \n",
        "        if curr is None : \n",
        "            return \n",
        "  \n",
        "        t = curr.next \n",
        "        for count in range(1, N+1): \n",
        "            if t is None: \n",
        "                 break\n",
        "            t = t.next\n",
        "      \n",
        "        curr.next = t \n",
        "        curr = t  \n",
        "    return head"
      ],
      "execution_count": 6,
      "outputs": []
    },
    {
      "cell_type": "markdown",
      "metadata": {
        "id": "xvw3DHDeOh1T"
      },
      "source": [
        "**kReverse**"
      ]
    },
    {
      "cell_type": "code",
      "metadata": {
        "id": "xipZbowyOmE6"
      },
      "source": [
        "def kReverse(head, k) :\n",
        "    if k==0 or k==1:\n",
        "        return head\n",
        "    \n",
        "    current = head  \n",
        "    next  = None\n",
        "    prev = None\n",
        "    count = 0 \n",
        "    while(current is not None and count < k): \n",
        "        next = current.next\n",
        "        current.next = prev \n",
        "        prev = current \n",
        "        current = next \n",
        "        count=count+1\n",
        "  \n",
        "    if next is not None: \n",
        "        head.next =kReverse(next, k) \n",
        "  \n",
        "    return prev "
      ],
      "execution_count": 9,
      "outputs": []
    }
  ]
}