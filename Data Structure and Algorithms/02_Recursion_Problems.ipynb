{
  "nbformat": 4,
  "nbformat_minor": 0,
  "metadata": {
    "colab": {
      "name": "02 Recursion Problems.ipynb",
      "provenance": []
    },
    "kernelspec": {
      "name": "python3",
      "display_name": "Python 3"
    }
  },
  "cells": [
    {
      "cell_type": "markdown",
      "metadata": {
        "id": "DvJTF8TEDQvI",
        "colab_type": "text"
      },
      "source": [
        "**Geometric Sum**"
      ]
    },
    {
      "cell_type": "code",
      "metadata": {
        "id": "D9AKigjWDIq5",
        "colab_type": "code",
        "colab": {
          "base_uri": "https://localhost:8080/",
          "height": 51
        },
        "outputId": "ad793bfe-a987-4bd6-b425-f5802904dd1e"
      },
      "source": [
        "def geometricSum(k):\n",
        "    if k == 0:\n",
        "        return 1\n",
        "    return 1/2**k + geometricSum(k-1)\n",
        "\n",
        "\n",
        "k = int(input()) \n",
        "print('%.5f'%geometricSum(k))"
      ],
      "execution_count": 1,
      "outputs": [
        {
          "output_type": "stream",
          "text": [
            "3\n",
            "1.87500\n"
          ],
          "name": "stdout"
        }
      ]
    },
    {
      "cell_type": "markdown",
      "metadata": {
        "id": "Ft5VCS6CDdfX",
        "colab_type": "text"
      },
      "source": [
        "**Check Palindrome (recursive)**"
      ]
    },
    {
      "cell_type": "code",
      "metadata": {
        "id": "CpmmcDNKDUrI",
        "colab_type": "code",
        "colab": {
          "base_uri": "https://localhost:8080/",
          "height": 51
        },
        "outputId": "596d64c3-578d-43ab-b73b-6bf6fccc1bc3"
      },
      "source": [
        "def is_palindrome(s):\n",
        "    if len(s) < 1: \n",
        "        return True\n",
        "    else:\n",
        "        if s[0] == s[-1]: \n",
        "            return is_palindrome(s[1:-1]) \n",
        "        else: \n",
        "            return False\n",
        "\n",
        "a=input()\n",
        "if(is_palindrome(a)==True): \n",
        "    print(\"true\")\n",
        "else:\n",
        "    print(\"false\")"
      ],
      "execution_count": 3,
      "outputs": [
        {
          "output_type": "stream",
          "text": [
            "ninja\n",
            "false\n"
          ],
          "name": "stdout"
        }
      ]
    },
    {
      "cell_type": "markdown",
      "metadata": {
        "id": "TkbrwMdqDswN",
        "colab_type": "text"
      },
      "source": [
        "**Sum of digits (recursive)**"
      ]
    },
    {
      "cell_type": "code",
      "metadata": {
        "id": "t8dlnGiDDuAX",
        "colab_type": "code",
        "colab": {
          "base_uri": "https://localhost:8080/",
          "height": 68
        },
        "outputId": "b3556e75-9af7-4a73-e3b3-2ef3e4b21515"
      },
      "source": [
        "def sum_of_digit( n ): \n",
        "    if n == 0: \n",
        "        return 0\n",
        "    return (n % 10 + sum_of_digit(int(n / 10)))\n",
        "\n",
        "n = int(input())\n",
        "print(sum_of_digit(n))\n",
        "n"
      ],
      "execution_count": 4,
      "outputs": [
        {
          "output_type": "stream",
          "text": [
            "12345\n",
            "15\n"
          ],
          "name": "stdout"
        },
        {
          "output_type": "execute_result",
          "data": {
            "text/plain": [
              "12345"
            ]
          },
          "metadata": {
            "tags": []
          },
          "execution_count": 4
        }
      ]
    },
    {
      "cell_type": "markdown",
      "metadata": {
        "id": "KfXP1DvUD4S3",
        "colab_type": "text"
      },
      "source": [
        "**Multiplication (Recursive)**"
      ]
    },
    {
      "cell_type": "code",
      "metadata": {
        "id": "tiJk2g3DD5h-",
        "colab_type": "code",
        "colab": {
          "base_uri": "https://localhost:8080/",
          "height": 68
        },
        "outputId": "11c68ab4-6770-40f0-e3d9-aaaebad16362"
      },
      "source": [
        "def multiplication(m,n):\n",
        "    if m < n:\n",
        "        return multiplication(n,m)\n",
        "\n",
        "    elif n != 0:\n",
        "        return (m + multiplication(m, n-1))\n",
        "\n",
        "    else:\n",
        "        return 0\n",
        "    \n",
        "n = int(input())\n",
        "m = int(input())\n",
        "                \n",
        "print(multiplication(m,n))"
      ],
      "execution_count": 5,
      "outputs": [
        {
          "output_type": "stream",
          "text": [
            "3\n",
            "5\n",
            "15\n"
          ],
          "name": "stdout"
        }
      ]
    },
    {
      "cell_type": "markdown",
      "metadata": {
        "id": "TpqQ7JAUEBHm",
        "colab_type": "text"
      },
      "source": [
        "**Count Zeros**"
      ]
    },
    {
      "cell_type": "code",
      "metadata": {
        "id": "mKtWJzM8ECSt",
        "colab_type": "code",
        "colab": {
          "base_uri": "https://localhost:8080/",
          "height": 51
        },
        "outputId": "51b81af1-e6a9-4711-e539-604cf545ed37"
      },
      "source": [
        "def countzeros(n):\n",
        "    if n == 0:\n",
        "        return 0\n",
        "    if n < 10:\n",
        "        return 0\n",
        "    elif n % 10 == 0:\n",
        "        return 1+countzeros(n//10)\n",
        "    return countzeros(n//10)\n",
        "    \n",
        "n = int(input())\n",
        "print(countzeros(n))"
      ],
      "execution_count": 6,
      "outputs": [
        {
          "output_type": "stream",
          "text": [
            "10204\n",
            "2\n"
          ],
          "name": "stdout"
        }
      ]
    },
    {
      "cell_type": "markdown",
      "metadata": {
        "id": "0zEga_N0EKgh",
        "colab_type": "text"
      },
      "source": [
        "**String to Integer**"
      ]
    },
    {
      "cell_type": "code",
      "metadata": {
        "id": "MR2jWBjBEMaF",
        "colab_type": "code",
        "colab": {
          "base_uri": "https://localhost:8080/",
          "height": 51
        },
        "outputId": "ed1c4712-d088-4ac1-ee4b-bcd62efd6b52"
      },
      "source": [
        "def stringToInt(str): \n",
        " \n",
        "\tif (len(str) == 1): \n",
        "\t\treturn ord(str[0]) - ord('0')\n",
        "\n",
        "\t\n",
        "\ty = stringToInt(str[1:]) \n",
        " \n",
        "\tx = ord(str[0]) - ord('0')\n",
        "\t\n",
        "\n",
        "\tx = x * (10**(len(str) - 1)) + y\n",
        "\treturn int(x); \n",
        "\n",
        "str = input()\n",
        "print(stringToInt(str))"
      ],
      "execution_count": 7,
      "outputs": [
        {
          "output_type": "stream",
          "text": [
            "1231\n",
            "1231\n"
          ],
          "name": "stdout"
        }
      ]
    },
    {
      "cell_type": "markdown",
      "metadata": {
        "id": "SAeWlG9-ESE-",
        "colab_type": "text"
      },
      "source": [
        "**Pair star**"
      ]
    },
    {
      "cell_type": "code",
      "metadata": {
        "id": "4HmooelAEWHP",
        "colab_type": "code",
        "colab": {
          "base_uri": "https://localhost:8080/",
          "height": 51
        },
        "outputId": "3d937b80-ade6-4ed6-c16c-f3d1ce5beb6f"
      },
      "source": [
        "def pairStar(Input, Output, i = 0) : \n",
        "\t\n",
        "\t\n",
        "\tOutput = Output + Input[i] \n",
        "\n",
        "\t \n",
        "\tif (i == len(Input) - 1) : \n",
        "\t\tprint(Output) \n",
        "\t\treturn; \n",
        "\n",
        " \n",
        "\tif (Input[i] == Input[i + 1]) :\n",
        "\t\tOutput = Output + '*'; \n",
        "\n",
        "\tpairStar(Input, Output, i + 1)\n",
        "\n",
        "Input = input()\n",
        "Output = \"\" \n",
        "pairStar(Input, Output)"
      ],
      "execution_count": 8,
      "outputs": [
        {
          "output_type": "stream",
          "text": [
            "hello\n",
            "hel*lo\n"
          ],
          "name": "stdout"
        }
      ]
    },
    {
      "cell_type": "markdown",
      "metadata": {
        "id": "5WRhSO4cEcUm",
        "colab_type": "text"
      },
      "source": [
        "**Check AB**"
      ]
    },
    {
      "cell_type": "code",
      "metadata": {
        "id": "U5Z-YgegEf31",
        "colab_type": "code",
        "colab": {
          "base_uri": "https://localhost:8080/",
          "height": 51
        },
        "outputId": "3e08576f-7667-4975-c9e7-2a5c8bfd6ef8"
      },
      "source": [
        "def checkab(n,len,i):\n",
        "    if i>=len:\n",
        "        return (\"true\")\n",
        "    elif n[i]=='a':\n",
        "         if n[i+1]=='a' or(n[i+1]=='b'and n[i+2]=='b'):\n",
        "            if (n[i+1]=='a'):\n",
        "                return checkab(n,len,i+1)\n",
        "            elif n[i+1]=='b' and n[i+2]=='b':\n",
        "                return checkab(n,len,i+3)\n",
        "            else:\n",
        "                return (\"false\")\n",
        "         else:\n",
        "            return (\"false\")\n",
        "    else:\n",
        "        return (\"false\")\n",
        "\n",
        "\n",
        "\n",
        "\n",
        "n=input()\n",
        "len=len(n)\n",
        "i=0\n",
        "print(checkab(n,len-1,i))"
      ],
      "execution_count": 9,
      "outputs": [
        {
          "output_type": "stream",
          "text": [
            "abababa\n",
            "false\n"
          ],
          "name": "stdout"
        }
      ]
    },
    {
      "cell_type": "markdown",
      "metadata": {
        "id": "VvVjrbGXEnKl",
        "colab_type": "text"
      },
      "source": [
        "**Staircase**"
      ]
    },
    {
      "cell_type": "code",
      "metadata": {
        "id": "cxWE7-XLEqk1",
        "colab_type": "code",
        "colab": {
          "base_uri": "https://localhost:8080/",
          "height": 51
        },
        "outputId": "f04cdd2e-e7bf-4332-ce74-e2c2fb8dd2f1"
      },
      "source": [
        "def find_staircase(n):\n",
        "    \n",
        "    if n < 0:\n",
        "        return 0\n",
        "    if n < 3:\n",
        "        return n\n",
        "    if n == 3:\n",
        "        return 4\n",
        "    else :\n",
        "        return find_staircase(n-1) + find_staircase(n-2) + find_staircase(n-3) \n",
        "  \n",
        "\n",
        "n = int(input())\n",
        "steps = find_staircase(n)\n",
        "print(steps) "
      ],
      "execution_count": 10,
      "outputs": [
        {
          "output_type": "stream",
          "text": [
            "4\n",
            "7\n"
          ],
          "name": "stdout"
        }
      ]
    }
  ]
}