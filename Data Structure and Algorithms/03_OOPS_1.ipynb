{
  "nbformat": 4,
  "nbformat_minor": 0,
  "metadata": {
    "colab": {
      "name": "03 OOPS 1.ipynb",
      "provenance": [],
      "collapsed_sections": []
    },
    "kernelspec": {
      "name": "python3",
      "display_name": "Python 3"
    }
  },
  "cells": [
    {
      "cell_type": "markdown",
      "metadata": {
        "id": "7nMxZ1nB516h",
        "colab_type": "text"
      },
      "source": [
        "**Creating Classes and Objects**"
      ]
    },
    {
      "cell_type": "code",
      "metadata": {
        "id": "8upUD_lP4p30",
        "colab_type": "code",
        "colab": {}
      },
      "source": [
        "class student:\n",
        "    pass    "
      ],
      "execution_count": 1,
      "outputs": []
    },
    {
      "cell_type": "code",
      "metadata": {
        "id": "OgIs36d45N_1",
        "colab_type": "code",
        "colab": {
          "base_uri": "https://localhost:8080/",
          "height": 34
        },
        "outputId": "58b882e7-47f6-4702-a33d-3d7774385ceb"
      },
      "source": [
        "s1 = student()\n",
        "print(s1)"
      ],
      "execution_count": 2,
      "outputs": [
        {
          "output_type": "stream",
          "text": [
            "<__main__.student object at 0x7fba318d38d0>\n"
          ],
          "name": "stdout"
        }
      ]
    },
    {
      "cell_type": "code",
      "metadata": {
        "id": "ZaT5uQH15aws",
        "colab_type": "code",
        "colab": {
          "base_uri": "https://localhost:8080/",
          "height": 34
        },
        "outputId": "0e18bcb1-0a2f-4323-b280-b954737d716c"
      },
      "source": [
        "type(s1)"
      ],
      "execution_count": 3,
      "outputs": [
        {
          "output_type": "execute_result",
          "data": {
            "text/plain": [
              "__main__.student"
            ]
          },
          "metadata": {
            "tags": []
          },
          "execution_count": 3
        }
      ]
    },
    {
      "cell_type": "code",
      "metadata": {
        "id": "9xn3pkKQ5cX6",
        "colab_type": "code",
        "colab": {
          "base_uri": "https://localhost:8080/",
          "height": 34
        },
        "outputId": "60d87cc5-8750-49ba-fde6-b2108ef13bc8"
      },
      "source": [
        "s2 = student()\n",
        "s3 = student()\n",
        "print(s2,s3)"
      ],
      "execution_count": 4,
      "outputs": [
        {
          "output_type": "stream",
          "text": [
            "<__main__.student object at 0x7fba318d3ac8> <__main__.student object at 0x7fba318d3a90>\n"
          ],
          "name": "stdout"
        }
      ]
    },
    {
      "cell_type": "code",
      "metadata": {
        "id": "_xZwotvM9Lps",
        "colab_type": "code",
        "colab": {}
      },
      "source": [
        "s1.name = \"Pranav\""
      ],
      "execution_count": 5,
      "outputs": []
    },
    {
      "cell_type": "code",
      "metadata": {
        "id": "BQ5zfo4K9atl",
        "colab_type": "code",
        "colab": {}
      },
      "source": [
        "s2.rollnumber  = 24"
      ],
      "execution_count": 6,
      "outputs": []
    },
    {
      "cell_type": "code",
      "metadata": {
        "id": "oEGqA4N4-Bpw",
        "colab_type": "code",
        "colab": {}
      },
      "source": [
        "s3.rollnumber = 36"
      ],
      "execution_count": 7,
      "outputs": []
    },
    {
      "cell_type": "code",
      "metadata": {
        "id": "8uUFlCIP9euZ",
        "colab_type": "code",
        "colab": {}
      },
      "source": [
        "s3.name = \"Pranav\""
      ],
      "execution_count": 8,
      "outputs": []
    },
    {
      "cell_type": "code",
      "metadata": {
        "id": "7sv0gTZ29hWn",
        "colab_type": "code",
        "colab": {
          "base_uri": "https://localhost:8080/",
          "height": 35
        },
        "outputId": "0f9e518a-4293-4e62-fcb6-8ea1f0e7ef6d"
      },
      "source": [
        "s1.name"
      ],
      "execution_count": 9,
      "outputs": [
        {
          "output_type": "execute_result",
          "data": {
            "application/vnd.google.colaboratory.intrinsic+json": {
              "type": "string"
            },
            "text/plain": [
              "'Pranav'"
            ]
          },
          "metadata": {
            "tags": []
          },
          "execution_count": 9
        }
      ]
    },
    {
      "cell_type": "code",
      "metadata": {
        "id": "cgFaQDel91cH",
        "colab_type": "code",
        "colab": {
          "base_uri": "https://localhost:8080/",
          "height": 34
        },
        "outputId": "609282e3-734b-45bc-a004-bcd929441259"
      },
      "source": [
        "s1.__dict__"
      ],
      "execution_count": 10,
      "outputs": [
        {
          "output_type": "execute_result",
          "data": {
            "text/plain": [
              "{'name': 'Pranav'}"
            ]
          },
          "metadata": {
            "tags": []
          },
          "execution_count": 10
        }
      ]
    },
    {
      "cell_type": "code",
      "metadata": {
        "id": "aJnMUBDk9-FZ",
        "colab_type": "code",
        "colab": {
          "base_uri": "https://localhost:8080/",
          "height": 34
        },
        "outputId": "2e9e4fbf-df3c-41ad-af05-69ed53b87135"
      },
      "source": [
        "s3.__dict__"
      ],
      "execution_count": 11,
      "outputs": [
        {
          "output_type": "execute_result",
          "data": {
            "text/plain": [
              "{'name': 'Pranav', 'rollnumber': 36}"
            ]
          },
          "metadata": {
            "tags": []
          },
          "execution_count": 11
        }
      ]
    },
    {
      "cell_type": "code",
      "metadata": {
        "id": "TkkYGp_p-IqB",
        "colab_type": "code",
        "colab": {
          "base_uri": "https://localhost:8080/",
          "height": 34
        },
        "outputId": "3494c34e-88a9-4f09-ca61-5dc561e62523"
      },
      "source": [
        "hasattr(s1, \"name\")"
      ],
      "execution_count": 12,
      "outputs": [
        {
          "output_type": "execute_result",
          "data": {
            "text/plain": [
              "True"
            ]
          },
          "metadata": {
            "tags": []
          },
          "execution_count": 12
        }
      ]
    },
    {
      "cell_type": "code",
      "metadata": {
        "id": "fxSvXqL_-iIn",
        "colab_type": "code",
        "colab": {
          "base_uri": "https://localhost:8080/",
          "height": 34
        },
        "outputId": "7787f641-6ca2-41d6-a00d-d8d80e64064f"
      },
      "source": [
        "hasattr(s2, \"name\")"
      ],
      "execution_count": 13,
      "outputs": [
        {
          "output_type": "execute_result",
          "data": {
            "text/plain": [
              "False"
            ]
          },
          "metadata": {
            "tags": []
          },
          "execution_count": 13
        }
      ]
    },
    {
      "cell_type": "code",
      "metadata": {
        "id": "ipOgMFzV-9W5",
        "colab_type": "code",
        "colab": {
          "base_uri": "https://localhost:8080/",
          "height": 35
        },
        "outputId": "1cfc68c2-e2f4-42de-ebb8-a9b5f0f787d5"
      },
      "source": [
        "getattr(s1, \"name\")"
      ],
      "execution_count": 14,
      "outputs": [
        {
          "output_type": "execute_result",
          "data": {
            "application/vnd.google.colaboratory.intrinsic+json": {
              "type": "string"
            },
            "text/plain": [
              "'Pranav'"
            ]
          },
          "metadata": {
            "tags": []
          },
          "execution_count": 14
        }
      ]
    },
    {
      "cell_type": "code",
      "metadata": {
        "id": "tzbCPQWgimF_",
        "colab_type": "code",
        "colab": {
          "base_uri": "https://localhost:8080/",
          "height": 35
        },
        "outputId": "c38b083d-daa2-442b-cb78-246a4d798ea2"
      },
      "source": [
        "getattr(s2,\"name\", \" \")"
      ],
      "execution_count": 15,
      "outputs": [
        {
          "output_type": "execute_result",
          "data": {
            "application/vnd.google.colaboratory.intrinsic+json": {
              "type": "string"
            },
            "text/plain": [
              "' '"
            ]
          },
          "metadata": {
            "tags": []
          },
          "execution_count": 15
        }
      ]
    },
    {
      "cell_type": "code",
      "metadata": {
        "id": "-WJ1BVQnjjhO",
        "colab_type": "code",
        "colab": {}
      },
      "source": [
        "delattr(s1, \"name\")"
      ],
      "execution_count": 16,
      "outputs": []
    },
    {
      "cell_type": "code",
      "metadata": {
        "id": "eG0SkCd7kCVt",
        "colab_type": "code",
        "colab": {
          "base_uri": "https://localhost:8080/",
          "height": 34
        },
        "outputId": "cae4d943-c38b-46c7-b0c0-bcb01eea1216"
      },
      "source": [
        "s1.__dict__"
      ],
      "execution_count": 17,
      "outputs": [
        {
          "output_type": "execute_result",
          "data": {
            "text/plain": [
              "{}"
            ]
          },
          "metadata": {
            "tags": []
          },
          "execution_count": 17
        }
      ]
    },
    {
      "cell_type": "markdown",
      "metadata": {
        "id": "_4hgUxnfx81F",
        "colab_type": "text"
      },
      "source": [
        "**Predicting the output**"
      ]
    },
    {
      "cell_type": "code",
      "metadata": {
        "id": "aqF6HmiukFzE",
        "colab_type": "code",
        "colab": {
          "base_uri": "https://localhost:8080/",
          "height": 34
        },
        "outputId": "71356697-3e42-4e14-8136-812b9494e556"
      },
      "source": [
        "class Student:\n",
        "    name = \"Rohan\"\n",
        "    age = 16\n",
        "s1 = Student()\n",
        "s2 = Student()\n",
        "print(s1.name,end=\" \")\n",
        "print(s2.name,end=\" \")"
      ],
      "execution_count": 18,
      "outputs": [
        {
          "output_type": "stream",
          "text": [
            "Rohan Rohan "
          ],
          "name": "stdout"
        }
      ]
    },
    {
      "cell_type": "code",
      "metadata": {
        "id": "8FoH88usyAaE",
        "colab_type": "code",
        "colab": {
          "base_uri": "https://localhost:8080/",
          "height": 34
        },
        "outputId": "05006dc2-5de8-4af8-cfca-60689dbc084b"
      },
      "source": [
        "class Student:\n",
        "    pp = 50\n",
        "    \n",
        "s1 = Student()\n",
        "s1.pp= 58\n",
        "s2 = Student()\n",
        "s2.pp = 60\n",
        "print(s1.pp)"
      ],
      "execution_count": 19,
      "outputs": [
        {
          "output_type": "stream",
          "text": [
            "58\n"
          ],
          "name": "stdout"
        }
      ]
    },
    {
      "cell_type": "markdown",
      "metadata": {
        "id": "kC_sM3Kh17PF",
        "colab_type": "text"
      },
      "source": [
        "**The self is used to represent the instance of the class. With this keyword, you can access the attributes and methods of the class in python. It binds the attributes with the given arguments**"
      ]
    },
    {
      "cell_type": "code",
      "metadata": {
        "id": "haNCL_Jeztu3",
        "colab_type": "code",
        "colab": {
          "base_uri": "https://localhost:8080/",
          "height": 85
        },
        "outputId": "62de856c-38c5-4337-a2fd-d915ffa357ca"
      },
      "source": [
        "class student:\n",
        "    passingpercentage = 40\n",
        "\n",
        "    def studentDetails(self):\n",
        "        self.name = \"Pranav\"\n",
        "        self.age = 20\n",
        "        print(\"Name=\", self.name)\n",
        "        self.percentage = 80\n",
        "        print(\"Percentage=\", self.percentage)\n",
        "        pass\n",
        "\n",
        "    def ispassed(self):\n",
        "        if self.percentage > student.passingpercentage:\n",
        "            print(\"student has passed\")\n",
        "        else:\n",
        "            print(\"student has failed\")\n",
        "\n",
        "#static method doesn't require by default self\n",
        "    @staticmethod\n",
        "    def welcometoschool():\n",
        "        print(\"Hey! welcome to school\")\n",
        "\n",
        "\n",
        "s1 = student()\n",
        "s1.studentDetails()\n",
        "s1.ispassed()\n",
        "s1.welcometoschool()"
      ],
      "execution_count": 48,
      "outputs": [
        {
          "output_type": "stream",
          "text": [
            "Name= Pranav\n",
            "Percentage= 80\n",
            "student has passed\n",
            "Hey! welcome to school\n"
          ],
          "name": "stdout"
        }
      ]
    },
    {
      "cell_type": "markdown",
      "metadata": {
        "id": "pgfCmjRPDTG7",
        "colab_type": "text"
      },
      "source": [
        "**\"__init__\" is a reseved method in python classes. It is known as a constructor in object oriented concepts. This method called when an object is created from the class and it allow the class to initialize the attributes of a class**"
      ]
    },
    {
      "cell_type": "code",
      "metadata": {
        "id": "o8vGo4nd377-",
        "colab_type": "code",
        "colab": {}
      },
      "source": [
        "class student:\n",
        "    def __init__(self, student, rollNumber):\n",
        "        self.name = \"Pranav\"\n",
        "        self.rollNumber = 10"
      ],
      "execution_count": 27,
      "outputs": []
    },
    {
      "cell_type": "code",
      "metadata": {
        "id": "UmusinCRDzFF",
        "colab_type": "code",
        "colab": {
          "base_uri": "https://localhost:8080/",
          "height": 34
        },
        "outputId": "11732278-4e4b-46d3-9989-945c055ef5aa"
      },
      "source": [
        "s1 = student(\"Pranav\",10)\n",
        "s1.__dict__"
      ],
      "execution_count": 32,
      "outputs": [
        {
          "output_type": "execute_result",
          "data": {
            "text/plain": [
              "{'name': 'Pranav', 'rollNumber': 10}"
            ]
          },
          "metadata": {
            "tags": []
          },
          "execution_count": 32
        }
      ]
    },
    {
      "cell_type": "code",
      "metadata": {
        "id": "L7lP2vvvD8E_",
        "colab_type": "code",
        "colab": {
          "base_uri": "https://localhost:8080/",
          "height": 34
        },
        "outputId": "ce397633-9ccf-4363-db3f-4be88435ee39"
      },
      "source": [
        "s2 = student(\"Rohan\", 15)\n",
        "s2.__dict__"
      ],
      "execution_count": 34,
      "outputs": [
        {
          "output_type": "execute_result",
          "data": {
            "text/plain": [
              "{'name': 'Pranav', 'rollNumber': 10}"
            ]
          },
          "metadata": {
            "tags": []
          },
          "execution_count": 34
        }
      ]
    },
    {
      "cell_type": "code",
      "metadata": {
        "id": "g1vGhml_FV4w",
        "colab_type": "code",
        "colab": {
          "base_uri": "https://localhost:8080/",
          "height": 34
        },
        "outputId": "0c729cf6-05e6-4d40-805d-b27804d435ce"
      },
      "source": [
        "s1,s2"
      ],
      "execution_count": 31,
      "outputs": [
        {
          "output_type": "execute_result",
          "data": {
            "text/plain": [
              "(<__main__.student at 0x7fba31031860>, <__main__.student at 0x7fba310319b0>)"
            ]
          },
          "metadata": {
            "tags": []
          },
          "execution_count": 31
        }
      ]
    },
    {
      "cell_type": "code",
      "metadata": {
        "id": "AdsDUEOYFYBy",
        "colab_type": "code",
        "colab": {
          "base_uri": "https://localhost:8080/",
          "height": 34
        },
        "outputId": "c4df0fe5-1221-4b59-83ca-1109fa18150a"
      },
      "source": [
        "s3 = student(\"Mohan\", 17)\n",
        "s3.__dict__"
      ],
      "execution_count": 36,
      "outputs": [
        {
          "output_type": "execute_result",
          "data": {
            "text/plain": [
              "{'name': 'Pranav', 'rollNumber': 10}"
            ]
          },
          "metadata": {
            "tags": []
          },
          "execution_count": 36
        }
      ]
    },
    {
      "cell_type": "markdown",
      "metadata": {
        "id": "AlxkhcDXHZSr",
        "colab_type": "text"
      },
      "source": [
        "**Predict the Output**"
      ]
    },
    {
      "cell_type": "code",
      "metadata": {
        "id": "1WqVHOh9GPHC",
        "colab_type": "code",
        "colab": {
          "base_uri": "https://localhost:8080/",
          "height": 34
        },
        "outputId": "a3868f54-49d8-424e-feb1-245e80395abb"
      },
      "source": [
        "class Student:\n",
        "    def __init__(self,name,age):\n",
        "        self.name = name\n",
        "        self.age = age\n",
        "    def print_student_details(self):\n",
        "        print(self.name, end= \" \")\n",
        "        print(self.age)\n",
        "\n",
        "s = Student(\"Rohan\",60)\n",
        "s.print_student_details()"
      ],
      "execution_count": 40,
      "outputs": [
        {
          "output_type": "stream",
          "text": [
            "Rohan 60\n"
          ],
          "name": "stdout"
        }
      ]
    },
    {
      "cell_type": "code",
      "metadata": {
        "id": "Q3a6E8sDQY5y",
        "colab_type": "code",
        "colab": {}
      },
      "source": [
        "@classmethod\n",
        "def frombirthyear(cls,name,year,percentage):\n",
        "    return cls(name,date.today().year -year, percentage)"
      ],
      "execution_count": 49,
      "outputs": []
    },
    {
      "cell_type": "markdown",
      "metadata": {
        "id": "9ptoZFGIRKAb",
        "colab_type": "text"
      },
      "source": [
        "**Predicting the output**"
      ]
    },
    {
      "cell_type": "code",
      "metadata": {
        "id": "I5KT3JFVQvFn",
        "colab_type": "code",
        "colab": {
          "base_uri": "https://localhost:8080/",
          "height": 34
        },
        "outputId": "96e6c80e-2225-4b1e-dce3-3d64f7cc3acc"
      },
      "source": [
        "class Student:\n",
        "    def __init__(self,name,age):\n",
        "        self.name = name\n",
        "        self.age = age\n",
        "    def print_student_details():\n",
        "        print(self.name, end= \" \" )\n",
        "        print(self.age)\n",
        "\n",
        "    @staticmethod\n",
        "    def isTeen(age):\n",
        "        return age>16\n",
        "\n",
        "a = Student.isTeen(18)\n",
        "print(a)"
      ],
      "execution_count": 52,
      "outputs": [
        {
          "output_type": "stream",
          "text": [
            "True\n"
          ],
          "name": "stdout"
        }
      ]
    },
    {
      "cell_type": "markdown",
      "metadata": {
        "id": "6P070AWARoVq",
        "colab_type": "text"
      },
      "source": [
        "**Public Access Modifier:**\n",
        "The members of a class that are declared public are easily accessible from any part of the program. All data members and member functions of a class are public by default\n",
        "\n",
        "**Protected Access Modifier:**\n",
        "The members of a class that are declared protected are only accessible to a class derived from it. Data members of a class are declared protected by adding a single underscore '_' symbol before the data member of that class\n",
        "\n",
        "**Private Access Modifier:**\n",
        "The members of a class that are declared private are accessible within the class only, private access modifier is the most secure access modifier. Data members of a class are declared private by adding a double underscore '__' symbol before the data member of that class"
      ]
    },
    {
      "cell_type": "markdown",
      "metadata": {
        "id": "6d6r0rDSYscz",
        "colab_type": "text"
      },
      "source": [
        "A double underscore prefix causes the Python interpreter to rewrite the attribute name in order to avoid naming conflicts in subclasses.\n",
        "\n",
        "This is also called **name mangling**—the interpreter changes the name of the variable in a way that makes it harder to create collisions when the class is extended later"
      ]
    },
    {
      "cell_type": "code",
      "metadata": {
        "id": "YJGbU-gdYxcX",
        "colab_type": "code",
        "colab": {}
      },
      "source": [
        "class Test:\n",
        "    def __init__(self):\n",
        "        self.foo = 11\n",
        "        self._bar = 23\n",
        "        self.__baz = 23"
      ],
      "execution_count": 53,
      "outputs": []
    },
    {
      "cell_type": "code",
      "metadata": {
        "id": "br2eopQeY1Sp",
        "colab_type": "code",
        "colab": {
          "base_uri": "https://localhost:8080/",
          "height": 510
        },
        "outputId": "a05083a6-6be6-48d2-e4ff-60bc6e8c3a3a"
      },
      "source": [
        "t = Test()\n",
        "dir(t)"
      ],
      "execution_count": 54,
      "outputs": [
        {
          "output_type": "execute_result",
          "data": {
            "text/plain": [
              "['_Test__baz',\n",
              " '__class__',\n",
              " '__delattr__',\n",
              " '__dict__',\n",
              " '__dir__',\n",
              " '__doc__',\n",
              " '__eq__',\n",
              " '__format__',\n",
              " '__ge__',\n",
              " '__getattribute__',\n",
              " '__gt__',\n",
              " '__hash__',\n",
              " '__init__',\n",
              " '__init_subclass__',\n",
              " '__le__',\n",
              " '__lt__',\n",
              " '__module__',\n",
              " '__ne__',\n",
              " '__new__',\n",
              " '__reduce__',\n",
              " '__reduce_ex__',\n",
              " '__repr__',\n",
              " '__setattr__',\n",
              " '__sizeof__',\n",
              " '__str__',\n",
              " '__subclasshook__',\n",
              " '__weakref__',\n",
              " '_bar',\n",
              " 'foo']"
            ]
          },
          "metadata": {
            "tags": []
          },
          "execution_count": 54
        }
      ]
    },
    {
      "cell_type": "markdown",
      "metadata": {
        "id": "jT-0EEezbxKz",
        "colab_type": "text"
      },
      "source": [
        "**Predicting the output**"
      ]
    },
    {
      "cell_type": "code",
      "metadata": {
        "id": "9e0rx-dSbtSl",
        "colab_type": "code",
        "colab": {
          "base_uri": "https://localhost:8080/",
          "height": 34
        },
        "outputId": "2aee9381-e1c1-4019-e1c1-007f283b48b6"
      },
      "source": [
        "class Student:\n",
        "     def __init__(self,name,age):\n",
        "        self.__name = name\n",
        "        self.age = age\n",
        "     def print_student_details(self):\n",
        "        print(self.__name, end= \" \")\n",
        "        print(self.age)\n",
        "s = Student(\"Rohan\",20)\n",
        "s.print_student_details()"
      ],
      "execution_count": 55,
      "outputs": [
        {
          "output_type": "stream",
          "text": [
            "Rohan 20\n"
          ],
          "name": "stdout"
        }
      ]
    }
  ]
}