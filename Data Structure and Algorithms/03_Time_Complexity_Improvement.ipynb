{
  "nbformat": 4,
  "nbformat_minor": 0,
  "metadata": {
    "colab": {
      "name": "03_Time Complexity Improvement.ipynb",
      "provenance": [],
      "collapsed_sections": []
    },
    "kernelspec": {
      "name": "python3",
      "display_name": "Python 3"
    }
  },
  "cells": [
    {
      "cell_type": "markdown",
      "metadata": {
        "id": "uFA_22VWqaTw"
      },
      "source": [
        "**Power of a Number**"
      ]
    },
    {
      "cell_type": "code",
      "metadata": {
        "id": "dmoDmkYpmlC5",
        "outputId": "86b38e44-7513-4dee-ee6e-5ad1f1880746",
        "colab": {
          "base_uri": "https://localhost:8080/",
          "height": 51
        }
      },
      "source": [
        "def power(x, n):\n",
        "    if n == 0:\n",
        "        return 1\n",
        "        \n",
        "    pow = power(x,n//2)\n",
        "    \n",
        "    if n & 1:\n",
        "        return x * pow * pow\n",
        "    \n",
        "    return pow * pow\n",
        "    \n",
        "\n",
        "from sys import setrecursionlimit\n",
        "setrecursionlimit(11000)\n",
        "x, n=list(int(i) for i in input().strip().split(' '))\n",
        "print(power(x, n))"
      ],
      "execution_count": null,
      "outputs": [
        {
          "output_type": "stream",
          "text": [
            "3 5\n",
            "243\n"
          ],
          "name": "stdout"
        }
      ]
    },
    {
      "cell_type": "markdown",
      "metadata": {
        "id": "kd8csotN2mi8"
      },
      "source": [
        "**Array Intersection**"
      ]
    },
    {
      "cell_type": "code",
      "metadata": {
        "id": "NaQT1kRmqYAp",
        "outputId": "38b69ce9-538a-4630-fef2-7b89fc2d1d4a",
        "colab": {
          "base_uri": "https://localhost:8080/",
          "height": 119
        }
      },
      "source": [
        "def intersection(arr1, arr2):\n",
        "  arr1.sort()\n",
        "  arr2.sort()\n",
        "\n",
        "  p1 = 0\n",
        "  p2 = 0\n",
        "  \n",
        "  while p1 < len(arr1) and p2 < len(arr2):\n",
        "\n",
        "    if arr1[p1] == arr2[p2]:\n",
        "      print(arr1[p1])\n",
        "      p1 += 1\n",
        "      p2 += 1\n",
        "    \n",
        "    elif arr1[p1] > arr2[p2]:\n",
        "      p2 += 1\n",
        "    \n",
        "    elif arr1[p1] < arr2[p2]:\n",
        "      p1 += 1\n",
        "\n",
        "n1=int(input())\n",
        "arr1=list(int(i) for i in input().strip().split(' ')[:n1])\n",
        "\n",
        "n2=int(input())\n",
        "arr2=list(int(i) for i in input().strip().split(' ')[:n2])\n",
        "\n",
        "intersection(arr1, arr2)"
      ],
      "execution_count": null,
      "outputs": [
        {
          "output_type": "stream",
          "text": [
            "5\n",
            "1 9 7 3 2\n",
            "5\n",
            "0 3 4 8 1\n",
            "1\n",
            "3\n"
          ],
          "name": "stdout"
        }
      ]
    },
    {
      "cell_type": "markdown",
      "metadata": {
        "id": "ojMlNezZ3Cbb"
      },
      "source": [
        "**Array Equilibrium Index**"
      ]
    },
    {
      "cell_type": "code",
      "metadata": {
        "id": "0laaj5weFKXK",
        "outputId": "40069ec1-9bfd-4b0f-ed97-4e359ce04686",
        "colab": {
          "base_uri": "https://localhost:8080/",
          "height": 68
        }
      },
      "source": [
        "def equilibriumIndex(arr):\n",
        "    sum1 = sum(arr)            \n",
        "    prev = 0                 \n",
        "    next = 0\n",
        "    for i in range(0, len(arr)-1):\n",
        "        prev += arr[i]\n",
        "        next = sum1 - prev - arr[i+1]\n",
        "        if prev == next:\n",
        "            return i+1\n",
        "  \n",
        "    return -1\n",
        "\n",
        "n = int(input())\n",
        "arr = [int(i) for i in input().strip().split()]\n",
        "print(equilibriumIndex(arr))"
      ],
      "execution_count": null,
      "outputs": [
        {
          "output_type": "stream",
          "text": [
            "7\n",
            "-7 1 5 2 -4 3 0\n",
            "3\n"
          ],
          "name": "stdout"
        }
      ]
    },
    {
      "cell_type": "markdown",
      "metadata": {
        "id": "sT7mdfD3oC2W"
      },
      "source": [
        "**Find the Unique Element**"
      ]
    },
    {
      "cell_type": "code",
      "metadata": {
        "id": "y1shZsZ0s1gs",
        "outputId": "09268f17-ad38-4090-c657-0a2b13fbc143",
        "colab": {
          "base_uri": "https://localhost:8080/",
          "height": 68
        }
      },
      "source": [
        "def FindUnique(arr):\n",
        "    unique = arr[0]\n",
        "    for i in range(1,len(arr)):\n",
        "        unique = unique ^ arr[i]\n",
        "    return unique\n",
        "   \n",
        "\n",
        "n=int(input())\n",
        "arr=list(int(i) for i in input().strip().split(' '))\n",
        "unique=FindUnique(arr)\n",
        "print(unique)\n"
      ],
      "execution_count": null,
      "outputs": [
        {
          "output_type": "stream",
          "text": [
            "7\n",
            "2 3 1 6 3 6 2\n",
            "1\n"
          ],
          "name": "stdout"
        }
      ]
    },
    {
      "cell_type": "markdown",
      "metadata": {
        "id": "f6vmblEJtEZJ"
      },
      "source": [
        "**Duplicate in array**"
      ]
    },
    {
      "cell_type": "code",
      "metadata": {
        "id": "bAEr8GeWs5lq",
        "outputId": "0697eb7b-951e-4249-b8a2-e56888ef0d46",
        "colab": {
          "base_uri": "https://localhost:8080/",
          "height": 68
        }
      },
      "source": [
        "def MissingNumber(arr):\n",
        "    sum1 = sum(arr)\n",
        "    x = set()\n",
        "    for i in arr:\n",
        "        \n",
        "        x.add(i)\n",
        "    return sum1 - sum(x)\n",
        "        \n",
        " \n",
        "\n",
        "n=int(input())\n",
        "arr=list(int(i) for i in input().strip().split(' '))\n",
        "ans=MissingNumber(arr)\n",
        "print(ans)"
      ],
      "execution_count": null,
      "outputs": [
        {
          "output_type": "stream",
          "text": [
            "9\n",
            "0 7 2 5 4 7 1 3 6\n",
            "7\n"
          ],
          "name": "stdout"
        }
      ]
    },
    {
      "cell_type": "markdown",
      "metadata": {
        "id": "G2oi5Nmd2Z3H"
      },
      "source": [
        "**Triplet Sum**"
      ]
    },
    {
      "cell_type": "code",
      "metadata": {
        "id": "pNwnGoQwv47I",
        "outputId": "5b053048-8b25-4724-bb69-00d3ee52ada7",
        "colab": {
          "base_uri": "https://localhost:8080/",
          "height": 153
        }
      },
      "source": [
        "n = int(input())\n",
        "list = [int(x) for x in input().split()]\n",
        "list.sort()\n",
        " \n",
        "r = int(input())\n",
        " \n",
        "for j in range(n):\n",
        "    st=j+1\n",
        "    end=n-1\n",
        "    m=r-list[j]\n",
        "    while st<=end and end<n and st>-1:\n",
        "        if list[st]+list[end]>m:\n",
        "            end-=1\n",
        "        elif list[st]+list[end]<m:\n",
        "            st+=1\n",
        "        else:\n",
        "            c1=0\n",
        "            c2=0\n",
        "            for i in range(st,end+1):\n",
        "                if list[st]==list[i]:\n",
        "                    c1=c1+1\n",
        "                else:\n",
        "                    break\n",
        "            for i in range(end,st-1,-1):\n",
        "                if list[end]==list[i]:\n",
        "                    c2=c2+1\n",
        "                else:\n",
        "                    break\n",
        "            if list[st]==list[end]:\n",
        "                com=((end-st+1)*(end-st))//2\n",
        "            else:\n",
        "                com=c1*c2\n",
        "            for i in range(com):\n",
        "                print(str(list[j]),str(list[st]),str(list[end]))\n",
        "            st=st+c1\n",
        "            end=end-c2"
      ],
      "execution_count": 12,
      "outputs": [
        {
          "output_type": "stream",
          "text": [
            "7\n",
            "1 2 3 4 5 6 7\n",
            "12\n",
            "1 4 7\n",
            "1 5 6\n",
            "2 3 7\n",
            "2 4 6\n",
            "3 4 5\n"
          ],
          "name": "stdout"
        }
      ]
    },
    {
      "cell_type": "markdown",
      "metadata": {
        "id": "DlqRtL80CV0Y"
      },
      "source": [
        "**Pair Sum in Array**"
      ]
    },
    {
      "cell_type": "code",
      "metadata": {
        "id": "jxfk_c0NwhuQ",
        "outputId": "e2ea1e91-5a4b-4368-872d-d5cc8e78ce2b",
        "colab": {
          "base_uri": "https://localhost:8080/",
          "height": 187
        }
      },
      "source": [
        "def pairSum(arr, x):\n",
        "\n",
        "    for i in range(0, len(arr)-1):\n",
        "\n",
        "        for j in range(i+1, len(arr)):\n",
        "\n",
        "            if arr[i] + arr[j] == x:\n",
        "\n",
        "                if arr[i] > arr[j]:\n",
        "\n",
        "                    print(arr[j], arr[i])\n",
        "                else:\n",
        "                    print(arr[i], arr[j])\n",
        "    \n",
        "    \n",
        "    \n",
        "    \n",
        "n=int(input())\n",
        "arr=list(int(i) for i in input().strip().split(' '))\n",
        "sum=int(input())\n",
        "pairSum(arr, sum)"
      ],
      "execution_count": 3,
      "outputs": [
        {
          "output_type": "stream",
          "text": [
            "9\n",
            "1 3 6 2 5 4 3 2 4\n",
            "7\n",
            "1 6\n",
            "3 4\n",
            "3 4\n",
            "2 5\n",
            "2 5\n",
            "3 4\n",
            "3 4\n"
          ],
          "name": "stdout"
        }
      ]
    },
    {
      "cell_type": "markdown",
      "metadata": {
        "id": "dxE0lBqwCSCE"
      },
      "source": [
        "**Rotate array**"
      ]
    },
    {
      "cell_type": "code",
      "metadata": {
        "id": "4qNBvF96Joxf"
      },
      "source": [
        "from sys import stdin\n",
        "import math\n",
        "\n",
        "\n",
        "def rotate(arr,n,d):\n",
        "    if n == 0:\n",
        "        return 0\n",
        "    d = d % n \n",
        "    g_c_d = math.gcd(d, n)\n",
        "    \n",
        "    for i in range(g_c_d): \n",
        "          \n",
        "        temp = arr[i] \n",
        "        j = i \n",
        "        while 1: \n",
        "            k = j + d \n",
        "            if k >= n: \n",
        "                k = k - n \n",
        "            if k == i: \n",
        "                break\n",
        "            arr[j] = arr[k] \n",
        "            j = k \n",
        "        arr[j] = temp"
      ],
      "execution_count": 5,
      "outputs": []
    }
  ]
}