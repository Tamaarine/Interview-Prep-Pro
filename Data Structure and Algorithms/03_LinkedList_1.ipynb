{
  "nbformat": 4,
  "nbformat_minor": 0,
  "metadata": {
    "colab": {
      "name": "03_LinkedList 1.ipynb",
      "provenance": [],
      "collapsed_sections": []
    },
    "kernelspec": {
      "name": "python3",
      "display_name": "Python 3"
    }
  },
  "cells": [
    {
      "cell_type": "code",
      "metadata": {
        "id": "4dMwX2Kqt30a",
        "outputId": "f4182516-e6a3-4c70-f118-6776cc2101b1",
        "colab": {
          "base_uri": "https://localhost:8080/",
          "height": 68
        }
      },
      "source": [
        "class Node:\n",
        "    def __init__(self,data):\n",
        "        self.data = data\n",
        "        self.next = None\n",
        "\n",
        "a = Node(13)\n",
        "b = Node(15)\n",
        "a.next = b\n",
        "print(a.data)\n",
        "print(b.data)\n",
        "print(a.next.data)"
      ],
      "execution_count": null,
      "outputs": [
        {
          "output_type": "stream",
          "text": [
            "13\n",
            "15\n",
            "15\n"
          ],
          "name": "stdout"
        }
      ]
    },
    {
      "cell_type": "markdown",
      "metadata": {
        "id": "qGVz96MDxFST"
      },
      "source": [
        "**Predicting The Output**"
      ]
    },
    {
      "cell_type": "code",
      "metadata": {
        "id": "C4DsJzR4v1aO",
        "outputId": "3ccaee39-9e14-4f53-96db-e57eff246cbe",
        "colab": {
          "base_uri": "https://localhost:8080/",
          "height": 34
        }
      },
      "source": [
        "class Node:\n",
        "    def __init__(self, data):\n",
        "        self.data = data\n",
        "        self.next = None\n",
        "def printLL(head):\n",
        "    while head is not None:\n",
        "        print(head.data,end=\" \")\n",
        "        head = head.next\n",
        "\n",
        "\n",
        "\n",
        "node1 = Node(10)\n",
        "node2 = Node(20)\n",
        "node2.next = node1\n",
        "printLL(node2)"
      ],
      "execution_count": null,
      "outputs": [
        {
          "output_type": "stream",
          "text": [
            "20 10 "
          ],
          "name": "stdout"
        }
      ]
    },
    {
      "cell_type": "code",
      "metadata": {
        "id": "vvZVZfnPxL1b",
        "outputId": "3003a74b-add6-4454-d558-da0aca434e44",
        "colab": {
          "base_uri": "https://localhost:8080/",
          "height": 34
        }
      },
      "source": [
        "class Node:\n",
        "    def __init__(self, data):\n",
        "        self.data = data\n",
        "        self.next = None\n",
        "def printLL(head):\n",
        "    while head is not None:\n",
        "        print(head.data,end=\" \")\n",
        "        head = head.next\n",
        "\n",
        "\n",
        "\n",
        "node1 = Node(10)\n",
        "node2 = Node(20)\n",
        "node3 = Node(30)\n",
        "node4 = Node(40)\n",
        "node1.next = node2\n",
        "node2.next = node3\n",
        "node3.next = node4\n",
        "printLL(node2)"
      ],
      "execution_count": null,
      "outputs": [
        {
          "output_type": "stream",
          "text": [
            "20 30 40 "
          ],
          "name": "stdout"
        }
      ]
    },
    {
      "cell_type": "markdown",
      "metadata": {
        "id": "uQXZf-6sqlYa"
      },
      "source": [
        "**LinkedList Input and Printing**"
      ]
    },
    {
      "cell_type": "code",
      "metadata": {
        "id": "SVLi3A3Dxbuf",
        "outputId": "6876147c-48dd-4dbc-d20c-48cd0fb7f69f",
        "colab": {
          "base_uri": "https://localhost:8080/",
          "height": 51
        }
      },
      "source": [
        "class Node:\n",
        "    \n",
        "    def __init__(self, data):\n",
        "        self.data = data\n",
        "        self.next = None\n",
        "\n",
        "def printLL(head):\n",
        "    while head is not None:\n",
        "        print(str(head.data) + \"->\", end = \"\")       \n",
        "        head = head.next\n",
        "    print(\"None\")\n",
        "    return\n",
        "\n",
        "def takeInput():\n",
        "    \n",
        "    arr = list(int(ele) for ele in input().split())    \n",
        "    head = None\n",
        "    for currData in arr:\n",
        "        if currData == -1:\n",
        "            break\n",
        "        \n",
        "        newNode = Node(currData)            \n",
        "        \n",
        "        if head is None:\n",
        "            head = newNode\n",
        "        else: \n",
        "            curr = head\n",
        "            while curr.next is not None:\n",
        "                curr = curr.next\n",
        "            curr.next = newNode                \n",
        "    return head\n",
        "\n",
        "head = takeInput()        \n",
        "printLL(head)"
      ],
      "execution_count": null,
      "outputs": [
        {
          "output_type": "stream",
          "text": [
            "1 2 3 4 5 6 -1\n",
            "1->2->3->4->5->6->None\n"
          ],
          "name": "stdout"
        }
      ]
    },
    {
      "cell_type": "markdown",
      "metadata": {
        "id": "FMnIx4nnveSn"
      },
      "source": [
        "**Time Complexity for the above Input taking process is O(n^2) due to iteration, which can furthur be optimised**"
      ]
    },
    {
      "cell_type": "markdown",
      "metadata": {
        "id": "tLCFCk87y1Z4"
      },
      "source": [
        "**Optimized LinkedList Input**"
      ]
    },
    {
      "cell_type": "code",
      "metadata": {
        "id": "_y48Uss2qr4f",
        "outputId": "a7b9a8b4-b382-4c32-a243-299a921c4b9b",
        "colab": {
          "base_uri": "https://localhost:8080/",
          "height": 51
        }
      },
      "source": [
        "class Node:\n",
        "    \n",
        "    def __init__(self, data):\n",
        "        self.data = data\n",
        "        self.next = None\n",
        "\n",
        "def printLL(head):\n",
        "    while head is not None:\n",
        "        print(str(head.data) + \"->\", end = \"\")       \n",
        "        head = head.next\n",
        "    print(\"None\")\n",
        "    return\n",
        "\n",
        "def takeInput():\n",
        "    \n",
        "    arr = list(int(ele) for ele in input().split())    \n",
        "    head = None\n",
        "    tail = None\n",
        "    for currData in arr:\n",
        "        if currData == -1:\n",
        "            break\n",
        "        \n",
        "        newNode = Node(currData)            \n",
        "        \n",
        "        if head is None:\n",
        "            head = newNode\n",
        "            tail = newNode\n",
        "        else:\n",
        "            tail.next = newNode\n",
        "            tail = newNode\n",
        "                           \n",
        "    return head\n",
        "\n",
        "head = takeInput()        \n",
        "printLL(head)"
      ],
      "execution_count": null,
      "outputs": [
        {
          "output_type": "stream",
          "text": [
            "1 2 3 4 5 -1\n",
            "1->2->3->4->5->None\n"
          ],
          "name": "stdout"
        }
      ]
    },
    {
      "cell_type": "markdown",
      "metadata": {
        "id": "UHB5PLtz0GAb"
      },
      "source": [
        "**Time Complexity for the above Input taking process is O(n) due to use of tail**"
      ]
    },
    {
      "cell_type": "markdown",
      "metadata": {
        "id": "ORq-3wBW0dPu"
      },
      "source": [
        "**Predicting the output**"
      ]
    },
    {
      "cell_type": "code",
      "metadata": {
        "id": "QpzoHEy50NJc",
        "outputId": "f3312111-2594-4060-f8b3-673f5f945298",
        "colab": {
          "base_uri": "https://localhost:8080/",
          "height": 34
        }
      },
      "source": [
        "class Node:\n",
        "    def __init__(self, data):\n",
        "        self.data = data\n",
        "        self.next = None\n",
        "\n",
        "def printLL(head):\n",
        "    while head is not None:\n",
        "        print(head.data,end=\" \")\n",
        "        head = head.next\n",
        "\n",
        "def increment(head):\n",
        "     temp = head\n",
        "     while temp is not None:\n",
        "        temp.data +=1\n",
        "        temp = temp.next\n",
        "\n",
        "\n",
        "\n",
        "node1 = Node(10)\n",
        "node2 = Node(20)\n",
        "node1.next = node2\n",
        "increment(node1)\n",
        "printLL(node1)"
      ],
      "execution_count": null,
      "outputs": [
        {
          "output_type": "stream",
          "text": [
            "11 21 "
          ],
          "name": "stdout"
        }
      ]
    },
    {
      "cell_type": "markdown",
      "metadata": {
        "id": "iTDUjHmD3Nof"
      },
      "source": [
        "**Length of LinkedList**"
      ]
    },
    {
      "cell_type": "code",
      "metadata": {
        "id": "84uvB56a2J08",
        "outputId": "1b62f894-d83e-4516-92e4-a4ca860b35e9",
        "colab": {
          "base_uri": "https://localhost:8080/",
          "height": 68
        }
      },
      "source": [
        "class Node :\n",
        "    def __init__(self, data) :\n",
        "        self.data = data\n",
        "        self.next = None\n",
        "\n",
        "\n",
        "def length(head) :\n",
        "    curr = head\n",
        "    count = 0\n",
        "    while curr is not None:\n",
        "        count += 1\n",
        "        curr = curr.next\n",
        "        \n",
        "    return count\n",
        "\n",
        "def ll(arr):\n",
        "    print(arr)\n",
        "    if len(arr)==0:\n",
        "        return None\n",
        "    head = Node(arr[0])\n",
        "    last = head\n",
        "    for data in arr[1:]:\n",
        "        last.next = Node(data)\n",
        "        last = last.next\n",
        "    return head\n",
        "\n",
        "arr=list(int(i) for i in input().strip().split(' '))\n",
        "\n",
        "l = ll(arr[:-1])\n",
        "len=length(l)\n",
        "print(len)"
      ],
      "execution_count": null,
      "outputs": [
        {
          "output_type": "stream",
          "text": [
            "1 2 3 4 5 -1\n",
            "[1, 2, 3, 4, 5]\n",
            "5\n"
          ],
          "name": "stdout"
        }
      ]
    },
    {
      "cell_type": "markdown",
      "metadata": {
        "id": "qMIKzET8RIxV"
      },
      "source": [
        "**Insert at Ith Position (Recursively and Recursive Both)**"
      ]
    },
    {
      "cell_type": "code",
      "metadata": {
        "id": "zRummvhtJWiE",
        "outputId": "eb78c28e-0833-47cb-c0dd-d974d756684b",
        "colab": {
          "base_uri": "https://localhost:8080/",
          "height": 85
        }
      },
      "source": [
        "class Node:\n",
        "    \n",
        "    def __init__(self, data):\n",
        "        self.data = data\n",
        "        self.next = None\n",
        "\n",
        "def printLL(head):\n",
        "    while head is not None:\n",
        "        print(str(head.data) + \"-->\", end = \"\")       \n",
        "        head = head.next\n",
        "    print(\"None\")\n",
        "    return\n",
        "\n",
        "def length(head):\n",
        "    count = 0\n",
        "    \n",
        "    while head is not None:\n",
        "        count = count + 1\n",
        "        head = head.next\n",
        "\n",
        "    return count\n",
        "\n",
        "def insertatIR(head,i,data):\n",
        "\n",
        "    if i < 0:\n",
        "        return head\n",
        "\n",
        "    if i == 0:\n",
        "        newNode = Node(data)\n",
        "        newNode.next = head\n",
        "        return newNode\n",
        "\n",
        "    if head is None:\n",
        "        return None\n",
        "\n",
        "    smallHead = insertatIR(head.next,i-1,data)\n",
        "    head.next = smallHead\n",
        "    return head\n",
        "\n",
        "\n",
        "def insertatI(head,i,data):\n",
        "    if i < 0 or i>length(head):\n",
        "        return head\n",
        "    count = 0\n",
        "    prev = None\n",
        "    curr = head\n",
        "    while count < i:\n",
        "\n",
        "        prev = curr\n",
        "        curr = curr.next\n",
        "        count = count + 1\n",
        "\n",
        "    newNode = Node(data)\n",
        "    if prev is not None:\n",
        "        prev.next = newNode\n",
        "    else:\n",
        "        head = newNode\n",
        "        newNode.next = curr\n",
        "\n",
        "    return head\n",
        "\n",
        "def takeInput():\n",
        "    \n",
        "    arr = list(int(ele) for ele in input().split())    \n",
        "    head = None\n",
        "    for currData in arr:\n",
        "        if currData == -1:\n",
        "            break\n",
        "        \n",
        "        newNode = Node(currData)            \n",
        "        \n",
        "        if head is None:\n",
        "            head = newNode\n",
        "        else: \n",
        "            curr = head\n",
        "            while curr.next is not None:\n",
        "                curr = curr.next\n",
        "            curr.next = newNode                \n",
        "    return head\n",
        "\n",
        "head = takeInput()        \n",
        "printLL(head)\n",
        "head = insertatIR(head,1,6)\n",
        "printLL(head)\n",
        "head = insertatIR(head,0,9)\n",
        "printLL(head)"
      ],
      "execution_count": null,
      "outputs": [
        {
          "output_type": "stream",
          "text": [
            "1 2 3 4 5 -1\n",
            "1-->2-->3-->4-->5-->None\n",
            "1-->6-->2-->3-->4-->5-->None\n",
            "9-->1-->6-->2-->3-->4-->5-->None\n"
          ],
          "name": "stdout"
        }
      ]
    },
    {
      "cell_type": "markdown",
      "metadata": {
        "id": "cqnak1ktWcvg"
      },
      "source": [
        "**The Time Complexity for Recursive is O(n) if i = n and Iterative one is also O(n)**"
      ]
    },
    {
      "cell_type": "markdown",
      "metadata": {
        "id": "94t4rxsNYqrV"
      },
      "source": [
        "**Find a Node in Linked List**"
      ]
    },
    {
      "cell_type": "code",
      "metadata": {
        "id": "ala_Et5pYrIV",
        "outputId": "5f9b77ef-4a20-444a-9dfe-98a44663be45",
        "colab": {
          "base_uri": "https://localhost:8080/",
          "height": 68
        }
      },
      "source": [
        "class Node:\n",
        "    def __init__(self, data):\n",
        "        self.data = data\n",
        "        self.next = None\n",
        "\n",
        "def linearSearch(head, n):\n",
        "    \n",
        "    curr = head\n",
        "    cnt = 0\n",
        "    while curr is not None:\n",
        "        if curr.data == n:\n",
        "            return cnt\n",
        "        cnt += 1\n",
        "        curr = curr.next\n",
        "        \n",
        "    return -1\n",
        "        \n",
        "    \n",
        "def ll(arr):\n",
        "    if len(arr)==0:\n",
        "        return None\n",
        "    head = Node(arr[0])\n",
        "    last = head\n",
        "    for data in arr[1:]:\n",
        "        last.next = Node(data)\n",
        "        last = last.next\n",
        "    return head\n",
        "\n",
        "arr=list(int(i) for i in input().strip().split(' '))\n",
        "\n",
        "l = ll(arr[:-1])\n",
        "data=int(input())\n",
        "index = linearSearch(l, data)\n",
        "print(index)"
      ],
      "execution_count": null,
      "outputs": [
        {
          "output_type": "stream",
          "text": [
            "1 2 4 83 71 -1\n",
            "71\n",
            "4\n"
          ],
          "name": "stdout"
        }
      ]
    },
    {
      "cell_type": "markdown",
      "metadata": {
        "id": "aRhmAiz7ZhhM"
      },
      "source": [
        "**Length of LL (recursive)**"
      ]
    },
    {
      "cell_type": "code",
      "metadata": {
        "id": "3PminWnYZeU9",
        "outputId": "2dbebcb0-5038-414e-cde3-9189f75e2469",
        "colab": {
          "base_uri": "https://localhost:8080/",
          "height": 51
        }
      },
      "source": [
        "class Node:\n",
        "    def __init__(self, data):\n",
        "        self.data = data\n",
        "        self.next = None\n",
        "\n",
        "def lengthRecursive(head):\n",
        "    if head is None:\n",
        "        return 0\n",
        "    return 1 + lengthRecursive(head.next)\n",
        "\n",
        "    \n",
        "    \n",
        "\n",
        "def ll(arr):\n",
        "    if len(arr)==0:\n",
        "        return None\n",
        "    head = Node(arr[0])\n",
        "    last = head\n",
        "    for data in arr[1:]:\n",
        "        last.next = Node(data)\n",
        "        last = last.next\n",
        "    return head\n",
        "\n",
        "\n",
        "from sys import setrecursionlimit\n",
        "setrecursionlimit(11000)\n",
        "\n",
        "arr=list(int(i) for i in input().strip().split(' '))\n",
        "\n",
        "l = ll(arr[:-1])\n",
        "len=lengthRecursive(l)\n",
        "print(len)\n"
      ],
      "execution_count": null,
      "outputs": [
        {
          "output_type": "stream",
          "text": [
            "1 2 5 8 9 4 -1\n",
            "6\n"
          ],
          "name": "stdout"
        }
      ]
    },
    {
      "cell_type": "markdown",
      "metadata": {
        "id": "3hTSi2l1cHZo"
      },
      "source": [
        "**Print ith node**"
      ]
    },
    {
      "cell_type": "code",
      "metadata": {
        "id": "imZOkShDcEk0"
      },
      "source": [
        "def printIthNode(head, i):\n",
        "    cnt = 0\n",
        "    while head is not None:\n",
        "      if cnt == i:\n",
        "        print(head.data)\n",
        "        return \n",
        "      head = head.next\n",
        "      cnt = cnt + 1"
      ],
      "execution_count": null,
      "outputs": []
    },
    {
      "cell_type": "markdown",
      "metadata": {
        "id": "FUliPpU4cQte"
      },
      "source": [
        "**AppendLastNToFirst**"
      ]
    },
    {
      "cell_type": "code",
      "metadata": {
        "id": "uAE-F_3hcLBW"
      },
      "source": [
        "def appendLastNToFirst(head, n) :\n",
        "    \n",
        "    if head is None:\n",
        "        return\n",
        "    \n",
        "    temp=t=head \n",
        "    \n",
        "    \n",
        "    i=-n\n",
        "    while temp.next!=None:\n",
        "        if i>=0:\n",
        "            t=t.next\n",
        "        temp=temp.next\n",
        "        i+=1\n",
        "    \n",
        "   \n",
        "    temp.next=head\n",
        "   \n",
        "    head=t.next\n",
        "    \n",
        "    t.next=None\n",
        "    return head"
      ],
      "execution_count": null,
      "outputs": []
    },
    {
      "cell_type": "markdown",
      "metadata": {
        "id": "yl-x74crpNo0"
      },
      "source": [
        "**Eliminate duplicates from LinkedList**"
      ]
    },
    {
      "cell_type": "code",
      "metadata": {
        "id": "30fw1tgacdzo"
      },
      "source": [
        "def removeDuplicates(head):\n",
        "    \n",
        "    if head is None or head.next is None:\n",
        "        return head\n",
        "    \n",
        "    curr = head\n",
        "    adv = curr.next\n",
        "    \n",
        "    while adv is not None:\n",
        "        if curr.data == adv.data:\n",
        "            curr.next = adv.next\n",
        "            adv = curr.next\n",
        "        else:\n",
        "            curr = curr.next\n",
        "            adv = adv.next\n",
        "            \n",
        "    return head"
      ],
      "execution_count": null,
      "outputs": []
    },
    {
      "cell_type": "markdown",
      "metadata": {
        "id": "B7G7BYby3PqK"
      },
      "source": [
        "**Delete node (recursive)**"
      ]
    },
    {
      "cell_type": "code",
      "metadata": {
        "id": "RTjRpthZpK3R"
      },
      "source": [
        "def deleteNodeRec(head, pos):\n",
        "    if head is None:\n",
        "        return None\n",
        "    \n",
        "    if pos<0:\n",
        "        return head\n",
        "    if pos==0 :\n",
        "        return head.next\n",
        "    \n",
        "    dele = deleteNodeRec(head.next, pos-1)\n",
        "    head.next = dele\n",
        "    \n",
        "    return head"
      ],
      "execution_count": null,
      "outputs": []
    },
    {
      "cell_type": "markdown",
      "metadata": {
        "id": "KpXGeCHi7iN_"
      },
      "source": [
        "**Palindrome LinkedList**"
      ]
    },
    {
      "cell_type": "code",
      "metadata": {
        "id": "yByfuhHN3Dev"
      },
      "source": [
        "def check_palindrome(head) :\n",
        "    if head is None :\n",
        "        return True\n",
        "    if head.next is None:\n",
        "        return True\n",
        "    node = head\n",
        "    fast = node\n",
        "    t2 = None\n",
        "    isPalindrome = True\n",
        "    \n",
        "    while fast and fast.next: \n",
        "        fast = fast.next.next\n",
        "        temp = node.next  \n",
        "        node.next = t2\n",
        "        t2 = node\n",
        "        node = temp\n",
        "\n",
        "    if fast: \n",
        "        t1 = node.next\n",
        "    else:  \n",
        "        t1 = node\n",
        "\n",
        "\n",
        "    while t2 and isPalindrome:\n",
        "        if t2.data == t1.data:\n",
        "            t1 = t1.next\n",
        "            t2 = t2.next\n",
        "            isPalindrome = True\n",
        "        else:\n",
        "            isPalindrome = False\n",
        "            break\n",
        "        return isPalindrome"
      ],
      "execution_count": null,
      "outputs": []
    },
    {
      "cell_type": "markdown",
      "metadata": {
        "id": "rjWZmCsQ923i"
      },
      "source": [
        "**Print Reverse LinkedList**"
      ]
    },
    {
      "cell_type": "code",
      "metadata": {
        "id": "heOfElLs7fNs"
      },
      "source": [
        "def printReverse(head):\n",
        "    if head is None:\n",
        "        return None\n",
        "    return printReverse(head.next), print(head.data, end = \" \")  "
      ],
      "execution_count": null,
      "outputs": []
    },
    {
      "cell_type": "markdown",
      "metadata": {
        "id": "63iTRuk4Js3o"
      },
      "source": [
        "**Delete node**"
      ]
    },
    {
      "cell_type": "code",
      "metadata": {
        "id": "E_Ffb42s_k6t"
      },
      "source": [
        "def deleteNode(head,pos):\n",
        "    if head is None:\n",
        "        return head\n",
        "    if pos == 0:\n",
        "        return head.next\n",
        "    count = 0\n",
        "    currHead = head\n",
        "    while currHead is not None and count < (pos - 1):\n",
        "        count += 1\n",
        "        currHead = currHead.next\n",
        "        \n",
        "    if (currHead is None) or (currHead.next is None):\n",
        "        return head\n",
        "    currHead.next = currHead.next.next\n",
        "    \n",
        "    return head"
      ],
      "execution_count": 1,
      "outputs": []
    }
  ]
}