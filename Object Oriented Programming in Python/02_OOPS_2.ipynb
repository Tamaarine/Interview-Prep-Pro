{
  "nbformat": 4,
  "nbformat_minor": 0,
  "metadata": {
    "colab": {
      "name": "02_OOPS_2.ipynb",
      "provenance": [],
      "collapsed_sections": []
    },
    "kernelspec": {
      "name": "python3",
      "display_name": "Python 3"
    }
  },
  "cells": [
    {
      "cell_type": "markdown",
      "metadata": {
        "id": "MG9vpk5gQ9ND",
        "colab_type": "text"
      },
      "source": [
        "Inheritence refers to defining a new class with little or no modification to an existing class. The new class is called **derived (or child) class** and the one from which it inherits is called the **base (or parent) class**"
      ]
    },
    {
      "cell_type": "markdown",
      "metadata": {
        "id": "3POJlKWkpbZY",
        "colab_type": "text"
      },
      "source": [
        "**Inheritence**"
      ]
    },
    {
      "cell_type": "code",
      "metadata": {
        "id": "ZkLOMgInTdCE",
        "colab_type": "code",
        "colab": {
          "base_uri": "https://localhost:8080/",
          "height": 85
        },
        "outputId": "a7fa145f-fde2-441c-ee8e-f5d6eb28a218"
      },
      "source": [
        "class vehicle:\n",
        "\n",
        "    def __init__(self,color,maxspeed):\n",
        "        self.color = color\n",
        "        self.maxspeed = maxspeed\n",
        "\n",
        "class car(vehicle):\n",
        "    def __init__(self,color,maxspeed,numgears,isconvertible):\n",
        "\n",
        "        super().__init__(color,maxspeed)\n",
        "        self.numgears = numgears\n",
        "        self.isconvertible = isconvertible\n",
        "\n",
        "    def printcar(self):\n",
        "        print(\"color: \",self.color)\n",
        "        print(\"maxspeed: \",self.maxspeed)\n",
        "        print(\"numgears: \",self.numgears)\n",
        "        print(\"isconvertible: \",self.isconvertible)\n",
        "\n",
        "C = car(\"red\",90,4,False)\n",
        "C.printcar()"
      ],
      "execution_count": null,
      "outputs": [
        {
          "output_type": "stream",
          "text": [
            "color:  red\n",
            "maxspeed:  90\n",
            "numgears:  4\n",
            "isconvertible:  False\n"
          ],
          "name": "stdout"
        }
      ]
    },
    {
      "cell_type": "markdown",
      "metadata": {
        "id": "Viw8JtaXtrZX",
        "colab_type": "text"
      },
      "source": [
        "**Predicting the output**"
      ]
    },
    {
      "cell_type": "code",
      "metadata": {
        "id": "jhVtZlFXtuUM",
        "colab_type": "code",
        "colab": {
          "base_uri": "https://localhost:8080/",
          "height": 34
        },
        "outputId": "f4c17a1d-1573-44a0-dc5b-015e2d1eae22"
      },
      "source": [
        "class Vehicle:\n",
        "    def __init__(self,color):\n",
        "        self.color = color\n",
        "class Car(Vehicle):\n",
        "    def __init__(self,color,numGears):\n",
        "        super().__init__(color)\n",
        "        self.numGears = numGears\n",
        "c= Car(\"black\",5)\n",
        "print(c.color)"
      ],
      "execution_count": null,
      "outputs": [
        {
          "output_type": "stream",
          "text": [
            "black\n"
          ],
          "name": "stdout"
        }
      ]
    },
    {
      "cell_type": "markdown",
      "metadata": {
        "id": "21zGipeMMlhm",
        "colab_type": "text"
      },
      "source": [
        "**Inheritence and Private Member**"
      ]
    },
    {
      "cell_type": "code",
      "metadata": {
        "id": "GL-i4lHyJxhR",
        "colab_type": "code",
        "colab": {
          "base_uri": "https://localhost:8080/",
          "height": 85
        },
        "outputId": "55ed45b1-1df7-499c-bcc2-f072da935f45"
      },
      "source": [
        "class vehicle:\n",
        "\n",
        "    def __init__(self,color,maxspeed):\n",
        "        self.color = color\n",
        "        self.__maxspeed = maxspeed\n",
        "    \n",
        "    def getmaxspeed(self):\n",
        "        return self.__maxspeed\n",
        "    \n",
        "    def setmaxspeed(self):\n",
        "        self.__maxspeed\n",
        "    \n",
        "class car(vehicle):\n",
        "    def __init__(self,color,maxspeed,numgears,isconvertible):\n",
        "\n",
        "        super().__init__(color,maxspeed)\n",
        "        self.numgears = numgears\n",
        "        self.isconvertible = isconvertible\n",
        "\n",
        "    def printcar(self):\n",
        "        print(\"color: \",self.color)\n",
        "        print(\"maxspeed: \",self.getmaxspeed)\n",
        "        print(\"numgears: \",self.numgears)\n",
        "        print(\"isconvertible: \",self.isconvertible)\n",
        "\n",
        "\n",
        "C = car(\"red\",90,4,False)\n",
        "C.printcar()"
      ],
      "execution_count": null,
      "outputs": [
        {
          "output_type": "stream",
          "text": [
            "color:  red\n",
            "maxspeed:  <bound method vehicle.getmaxspeed of <__main__.car object at 0x7f53c3c536d8>>\n",
            "numgears:  4\n",
            "isconvertible:  False\n"
          ],
          "name": "stdout"
        }
      ]
    },
    {
      "cell_type": "code",
      "metadata": {
        "id": "6BTanJh5Md6Z",
        "colab_type": "code",
        "colab": {
          "base_uri": "https://localhost:8080/",
          "height": 85
        },
        "outputId": "7d5366e4-d4c7-4552-fc8c-f8e3350f1e08"
      },
      "source": [
        "class vehicle:\n",
        "\n",
        "    def __init__(self,color,maxspeed):\n",
        "        self.color = color\n",
        "        self.__maxspeed = maxspeed\n",
        "    \n",
        "    def getmaxspeed(self):\n",
        "        return self.__maxspeed\n",
        "    \n",
        "    def setmaxspeed(self):\n",
        "        self.__maxspeed\n",
        "    \n",
        "    def print(self):\n",
        "        print(\"color: \",self.color)\n",
        "        print(\"maxspeed: \",self.__maxspeed)\n",
        "\n",
        "class car(vehicle):\n",
        "    def __init__(self,color,maxspeed,numgears,isconvertible):\n",
        "\n",
        "        super().__init__(color,maxspeed)\n",
        "        self.numgears = numgears\n",
        "        self.isconvertible = isconvertible\n",
        "\n",
        "    def printcar(self):\n",
        "        super().print() #self.print() can also be used instead\n",
        "        print(\"numgears: \",self.numgears)\n",
        "        print(\"isconvertible: \",self.isconvertible)\n",
        "    \n",
        "C = car(\"red\",90,4,False)\n",
        "C.printcar()"
      ],
      "execution_count": null,
      "outputs": [
        {
          "output_type": "stream",
          "text": [
            "color:  red\n",
            "maxspeed:  90\n",
            "numgears:  4\n",
            "isconvertible:  False\n"
          ],
          "name": "stdout"
        }
      ]
    },
    {
      "cell_type": "markdown",
      "metadata": {
        "id": "YJYpwi1-UUj-",
        "colab_type": "text"
      },
      "source": [
        "- **self()** which is mostly used as the first parameter of instance methods of classes, always represents the calling object/instance of the class"
      ]
    },
    {
      "cell_type": "markdown",
      "metadata": {
        "id": "SSqxGn79Uha0",
        "colab_type": "text"
      },
      "source": [
        "- **super()** refers to object of parent class"
      ]
    },
    {
      "cell_type": "markdown",
      "metadata": {
        "id": "B3bqplOGSwM5",
        "colab_type": "text"
      },
      "source": [
        "Polymorphism defines the ability to take different forms. Polymorphism in Python allows us to define methods in the child class with the same name as defined in their parent class"
      ]
    },
    {
      "cell_type": "markdown",
      "metadata": {
        "id": "uoGBPRJ3U5p1",
        "colab_type": "text"
      },
      "source": [
        "Method overriding is an ability of any object-oriented programming language that allows a subclass or child class to provide a specific implementation of a method that is already provided by one of its super-classes or parent classes. When a method in a subclass has the same name, same parameters or signature and same return type(or sub-type) as a method in its super-class, then the method in the subclass is said to override the method in the super-class"
      ]
    },
    {
      "cell_type": "markdown",
      "metadata": {
        "id": "NRCuS4euVpSJ",
        "colab_type": "text"
      },
      "source": [
        "**Predicting The Output**"
      ]
    },
    {
      "cell_type": "code",
      "metadata": {
        "id": "piiu5yIYU_y0",
        "colab_type": "code",
        "colab": {
          "base_uri": "https://localhost:8080/",
          "height": 34
        },
        "outputId": "da634195-7186-4f9e-d5c2-7a2a1bd7210f"
      },
      "source": [
        "class Vehicle:\n",
        "    def __init__(self,color):\n",
        "        self.color = color\n",
        "    def print(self):\n",
        "        print(c.color,end=\" \")\n",
        "class Car(Vehicle):\n",
        "    def __init__(self,color,numGears):\n",
        "        super().__init__(color)\n",
        "        self.numGears = numGears\n",
        "    def print(self):\n",
        "       print(c.color,end=\" \")\n",
        "       print(c.numGears)\n",
        "c = Car(\"black\",5)\n",
        "c.print()"
      ],
      "execution_count": null,
      "outputs": [
        {
          "output_type": "stream",
          "text": [
            "black 5\n"
          ],
          "name": "stdout"
        }
      ]
    },
    {
      "cell_type": "markdown",
      "metadata": {
        "id": "YAEdrlRWk0Ji",
        "colab_type": "text"
      },
      "source": [
        "**Object Class**"
      ]
    },
    {
      "cell_type": "code",
      "metadata": {
        "id": "d5uSGjclk362",
        "colab_type": "code",
        "colab": {
          "base_uri": "https://localhost:8080/",
          "height": 34
        },
        "outputId": "c8868f30-c211-4173-b136-bc96849de3c7"
      },
      "source": [
        "class Circle(object):\n",
        "\n",
        "    def __init__(self,radius):\n",
        "        self.__radius = radius\n",
        "\n",
        "    def __str__(self):\n",
        "        return \"This is a circle class which takes radius as an argument\"\n",
        "\n",
        "C = Circle(3)\n",
        "print(C)"
      ],
      "execution_count": 4,
      "outputs": [
        {
          "output_type": "stream",
          "text": [
            "This is a circle class which takes radius as an argument\n"
          ],
          "name": "stdout"
        }
      ]
    },
    {
      "cell_type": "markdown",
      "metadata": {
        "id": "t3ntpRwGuG0I",
        "colab_type": "text"
      },
      "source": [
        "**Predicting The Output**"
      ]
    },
    {
      "cell_type": "code",
      "metadata": {
        "id": "R9BVBkowr_Bc",
        "colab_type": "code",
        "colab": {
          "base_uri": "https://localhost:8080/",
          "height": 34
        },
        "outputId": "eabed738-57ee-4a00-e26e-6266019e3f5c"
      },
      "source": [
        "class Circle(object):\n",
        "    def __str__(self):\n",
        "        return \"This is a Circle Class\"\n",
        "c = Circle()\n",
        "print(c)"
      ],
      "execution_count": 5,
      "outputs": [
        {
          "output_type": "stream",
          "text": [
            "This is a Circle Class\n"
          ],
          "name": "stdout"
        }
      ]
    },
    {
      "cell_type": "markdown",
      "metadata": {
        "id": "PgJ-eoMguUrH",
        "colab_type": "text"
      },
      "source": [
        "**Multiple Inheritence**"
      ]
    },
    {
      "cell_type": "markdown",
      "metadata": {
        "id": "KPvl0hWPyMg7",
        "colab_type": "text"
      },
      "source": [
        "A class can be derived from more than one base class in Python,This is called multiple inheritance.\n",
        "\n",
        "In multiple inheritance, the features of all the base classes are inherited into the derived class. The syntax for multiple inheritance is similar to single inheritance"
      ]
    },
    {
      "cell_type": "markdown",
      "metadata": {
        "id": "83DnoXHTyVNm",
        "colab_type": "text"
      },
      "source": [
        "![](https://cdn.programiz.com/sites/tutorial2program/files/MultipleInheritance.jpg)"
      ]
    },
    {
      "cell_type": "code",
      "metadata": {
        "id": "tzQUAczXuPD3",
        "colab_type": "code",
        "colab": {
          "base_uri": "https://localhost:8080/",
          "height": 34
        },
        "outputId": "978ac108-ab15-492e-90ab-5e74eccf79ee"
      },
      "source": [
        "class mother:\n",
        "    def print(self):\n",
        "        print(\"Print of Mother Called\")\n",
        "\n",
        "class father:\n",
        "    def print(self):\n",
        "        print(\"Print of Father Called\")\n",
        "\n",
        "class child(father,mother):\n",
        "    def __init__(self,name):\n",
        "        self.name = name\n",
        "    \n",
        "    def printchild(self):\n",
        "        print(\"Name of Child is\", self.name)\n",
        "    \n",
        "c = child(\"Rohan\")\n",
        "c.printchild()"
      ],
      "execution_count": 7,
      "outputs": [
        {
          "output_type": "stream",
          "text": [
            "Name of Child is Rohan\n"
          ],
          "name": "stdout"
        }
      ]
    },
    {
      "cell_type": "markdown",
      "metadata": {
        "id": "qOK3oLC10W6i",
        "colab_type": "text"
      },
      "source": [
        "**Method Resolution Order**"
      ]
    },
    {
      "cell_type": "code",
      "metadata": {
        "id": "WkFqpKfSx9FU",
        "colab_type": "code",
        "colab": {
          "base_uri": "https://localhost:8080/",
          "height": 51
        },
        "outputId": "ef6077d3-a804-4dc7-f8f3-06a67625ad54"
      },
      "source": [
        "class mother:\n",
        "    def __init__(self):\n",
        "        self.name = \"Manju\"\n",
        "        super().__init__()\n",
        "\n",
        "    def print(self):\n",
        "        print(\"Print of Mother Called\")\n",
        "\n",
        "\n",
        "class father:\n",
        "    def __init__(self):\n",
        "        self.name = \"Ajay\"\n",
        "\n",
        "    def print(self):\n",
        "        print(\"Print of Father Called\")   \n",
        "\n",
        "class child(father,mother):\n",
        "    def __init__(self,name):\n",
        "        super().__init__()\n",
        "        self.name = name\n",
        "    \n",
        "    def printchild(self):\n",
        "        print(\"Name of Child is\", self.name)\n",
        "    \n",
        "c = child(\"Rohan\")\n",
        "c.printchild()\n",
        "print(child.mro())"
      ],
      "execution_count": 8,
      "outputs": [
        {
          "output_type": "stream",
          "text": [
            "Name of Child is Rohan\n",
            "[<class '__main__.child'>, <class '__main__.father'>, <class '__main__.mother'>, <class 'object'>]\n"
          ],
          "name": "stdout"
        }
      ]
    },
    {
      "cell_type": "markdown",
      "metadata": {
        "id": "Qv-l2c7RBzHY",
        "colab_type": "text"
      },
      "source": [
        "In python, method resolution order defines the order in which the base classes are searched when executing a method. First, the method or attribute is searched within a class and then it follows the order we specified while inheriting. This order is also called Linearization of a class and set of rules are called MRO(Method Resolution Order). While inheriting from another class, the interpreter needs a way to resolve the methods that are being called via an instance. Thus we need the method resolution order"
      ]
    },
    {
      "cell_type": "markdown",
      "metadata": {
        "id": "egEX0vZ9H7Zw",
        "colab_type": "text"
      },
      "source": [
        "![](https://d2h0cx97tjks2p.cloudfront.net/blogs/wp-content/uploads/sites/2/2018/02/MRO.jpg)"
      ]
    },
    {
      "cell_type": "markdown",
      "metadata": {
        "id": "Cdw51wbbIGL0",
        "colab_type": "text"
      },
      "source": [
        "First, the interpreter scans M. Then, it scans B, and then A-B first because of the order of arguments at the time of inheritance. It scans Z later, after X and Y. The order is- X, then Y, then Z. This is because due to depth-first search, X comes first to A. Finally, it scans the class object. Hence, the order"
      ]
    },
    {
      "cell_type": "markdown",
      "metadata": {
        "id": "Ii8exLMXKK89",
        "colab_type": "text"
      },
      "source": [
        "**Operator Overloading**"
      ]
    },
    {
      "cell_type": "markdown",
      "metadata": {
        "id": "TfxUg_tbMHAF",
        "colab_type": "text"
      },
      "source": [
        "![](https://codespeedy.com/wp-content/uploads/2019/08/Table.jpg)"
      ]
    },
    {
      "cell_type": "markdown",
      "metadata": {
        "id": "ywKjHgmkMSQ0",
        "colab_type": "text"
      },
      "source": [
        "![](https://www.educative.io/api/edpresso/shot/5852116855816192/image/6032384149422080)"
      ]
    },
    {
      "cell_type": "code",
      "metadata": {
        "id": "iKHsuXEcKPBs",
        "colab_type": "code",
        "colab": {
          "base_uri": "https://localhost:8080/",
          "height": 51
        },
        "outputId": "fd7f9962-fcef-4ebb-97fd-6c25cbf2cfae"
      },
      "source": [
        "import math\n",
        "\n",
        "class point:\n",
        "\n",
        "    def __init__(self,x,y):\n",
        "        self.__x = x\n",
        "        self.__y = y\n",
        "\n",
        "    def __str__(self):\n",
        "\n",
        "        return \"This point is at {\" + str(self.__x) + \",\" + str(self.__y) + \")\"\n",
        "\n",
        "    def __add__(self,point_object):\n",
        "        return point(self.__x + point_object.__x,self.__y + point_object.__y)\n",
        "\n",
        "    def __lt__(self,point_object):\n",
        "        return math.sqrt(self.__x**2 + self.__y**2) < math.sqrt(point_object.__x**2 + point_object.__y**2)\n",
        "\n",
        "\n",
        "p1 = point(1,2)\n",
        "p2 = point(3,4)\n",
        "\n",
        "p3 = p2 + p1\n",
        "print(p3)\n",
        "print(p1 > p2)"
      ],
      "execution_count": 12,
      "outputs": [
        {
          "output_type": "stream",
          "text": [
            "This point is at {4,6)\n",
            "False\n"
          ],
          "name": "stdout"
        }
      ]
    }
  ]
}