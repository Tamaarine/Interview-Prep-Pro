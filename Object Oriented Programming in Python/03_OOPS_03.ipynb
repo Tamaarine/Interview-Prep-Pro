{
  "nbformat": 4,
  "nbformat_minor": 0,
  "metadata": {
    "colab": {
      "name": "03_OOPS_03.ipynb",
      "provenance": [],
      "collapsed_sections": []
    },
    "kernelspec": {
      "name": "python3",
      "display_name": "Python 3"
    }
  },
  "cells": [
    {
      "cell_type": "markdown",
      "metadata": {
        "id": "ANDM96u0RdKL",
        "colab_type": "text"
      },
      "source": [
        "**Abstarct Classes**\n",
        "\n",
        "$ Important Tips :\n",
        "\n",
        "- Object of abstract class can't be created\n",
        "- Implement all of the abstract method in child class"
      ]
    },
    {
      "cell_type": "code",
      "metadata": {
        "id": "60Ed47BUQzDk",
        "colab_type": "code",
        "colab": {
          "base_uri": "https://localhost:8080/",
          "height": 34
        },
        "outputId": "2d2cee41-5419-4d4c-b1e8-3ac06a1ad3e5"
      },
      "source": [
        "from abc import ABC, abstractmethod\n",
        "\n",
        "class Automobile(ABC):\n",
        "\n",
        "    def __init__(self):\n",
        "        print(\"Automobile created\")\n",
        "    \n",
        "    @abstractmethod\n",
        "    def start(self):\n",
        "        pass\n",
        "    \n",
        "    @abstractmethod\n",
        "    def stop(self):\n",
        "        pass\n",
        "    \n",
        "    @abstractmethod\n",
        "    def drive(self):\n",
        "        pass\n",
        "    \n",
        "class Car(Automobile):\n",
        "\n",
        "    def __init__(self,name):\n",
        "        print(\"car created\")\n",
        "        self.name = name\n",
        "\n",
        "    def start(Self):\n",
        "        pass\n",
        "    \n",
        "    def stop(self):\n",
        "        pass\n",
        "    \n",
        "    def drive(self):\n",
        "        pass\n",
        "\n",
        "c = Car(\"Honda\")"
      ],
      "execution_count": 5,
      "outputs": [
        {
          "output_type": "stream",
          "text": [
            "car created\n"
          ],
          "name": "stdout"
        }
      ]
    },
    {
      "cell_type": "markdown",
      "metadata": {
        "id": "_A6OHbWgTe44",
        "colab_type": "text"
      },
      "source": [
        "** Predicting the output**"
      ]
    },
    {
      "cell_type": "code",
      "metadata": {
        "id": "ukcMywu7RiTi",
        "colab_type": "code",
        "colab": {
          "base_uri": "https://localhost:8080/",
          "height": 34
        },
        "outputId": "00e8fdd6-34aa-446b-ae60-be2afdf2569a"
      },
      "source": [
        "from abc import ABC,abstractmethod\n",
        "\n",
        "class A(ABC):\n",
        "\n",
        "    @abstractmethod\n",
        "    def fun1(self):\n",
        "        pass\n",
        "\n",
        "    @abstractmethod\n",
        "    def fun2(self):\n",
        "        pass\n",
        "\n",
        "class B(A):\n",
        "\n",
        "    def fun1(self):\n",
        "        print(\"function 1 called\")\n",
        "\n",
        "    def fun2(self):\n",
        "        print(\"function 2 called\")\n",
        "o = B()\n",
        "o.fun1()"
      ],
      "execution_count": 7,
      "outputs": [
        {
          "output_type": "stream",
          "text": [
            "function 1 called\n"
          ],
          "name": "stdout"
        }
      ]
    },
    {
      "cell_type": "code",
      "metadata": {
        "id": "q00Om-LiTnwg",
        "colab_type": "code",
        "colab": {
          "base_uri": "https://localhost:8080/",
          "height": 68
        },
        "outputId": "bf425682-2ee4-4e66-a2f5-bb9f416c5a1b"
      },
      "source": [
        "from abc import ABC, abstractmethod\n",
        "\n",
        "class Automobile(ABC):\n",
        "\n",
        "    def __init__(self,no_of_wheels):\n",
        "        self.no_of_wheels = no_of_wheels\n",
        "        print(\"Automobile created\")\n",
        "    \n",
        "    @abstractmethod\n",
        "    def start(self):\n",
        "        print(\"start of automobile called\")\n",
        "    \n",
        "    @abstractmethod\n",
        "    def stop(self):\n",
        "        pass\n",
        "    \n",
        "    @abstractmethod\n",
        "    def drive(self):\n",
        "        pass\n",
        "\n",
        "    @abstractmethod\n",
        "    def get_no_of_wheels(self):\n",
        "        return self.no_of_wheels\n",
        "\n",
        "\n",
        "class Car(Automobile):\n",
        "\n",
        "    def start(Self):\n",
        "        pass\n",
        "    \n",
        "    def stop(self):\n",
        "        pass\n",
        "    \n",
        "    def drive(self):\n",
        "        pass\n",
        "    \n",
        "    def get_no_of_wheels(self):\n",
        "        return super().get_no_of_wheels()\n",
        "\n",
        "class Bus(Automobile):\n",
        "\n",
        "    def start(Self):\n",
        "        pass\n",
        "    \n",
        "    def stop(self):\n",
        "        pass\n",
        "    \n",
        "    def drive(self):\n",
        "        pass\n",
        "\n",
        "    def get_no_of_wheels(self):\n",
        "        return super().get_no_of_wheels()\n",
        "\n",
        "\n",
        "\n",
        "c = Car(4)\n",
        "b = Bus(8)\n",
        "print(c.get_no_of_wheels())"
      ],
      "execution_count": 9,
      "outputs": [
        {
          "output_type": "stream",
          "text": [
            "Automobile created\n",
            "Automobile created\n",
            "4\n"
          ],
          "name": "stdout"
        }
      ]
    },
    {
      "cell_type": "markdown",
      "metadata": {
        "id": "d4alGo3e8kTV",
        "colab_type": "text"
      },
      "source": [
        "**Predicting The Output**"
      ]
    },
    {
      "cell_type": "code",
      "metadata": {
        "id": "mtTLmcCs8mSE",
        "colab_type": "code",
        "colab": {
          "base_uri": "https://localhost:8080/",
          "height": 34
        },
        "outputId": "fed31010-f36a-4955-bc7a-4d30034cdc78"
      },
      "source": [
        "from abc import ABC,abstractmethod\n",
        "\n",
        "class A(ABC):\n",
        "\n",
        "    @abstractmethod\n",
        "    def fun1(self):\n",
        "        print(\"function of class A called\")\n",
        "\n",
        "    @abstractmethod\n",
        "    def fun2(self):\n",
        "        pass\n",
        "\n",
        "class B(A):\n",
        "    def fun1(self):\n",
        "        print(\"function 1 called\")\n",
        "    def fun2(self):\n",
        "        print(\"function 2 called\")\n",
        "o = B()\n",
        "o.fun1()"
      ],
      "execution_count": 11,
      "outputs": [
        {
          "output_type": "stream",
          "text": [
            "function 1 called\n"
          ],
          "name": "stdout"
        }
      ]
    },
    {
      "cell_type": "code",
      "metadata": {
        "id": "P6Ln52BM88df",
        "colab_type": "code",
        "colab": {
          "base_uri": "https://localhost:8080/",
          "height": 34
        },
        "outputId": "b10ed12f-0ee0-4221-b77b-d7c572aae8a8"
      },
      "source": [
        "from abc import ABC,abstractmethod\n",
        "\n",
        "class A(ABC):\n",
        "\n",
        "    @abstractmethod\n",
        "    def fun1(self):\n",
        "        print(\"function of class A called\")\n",
        "\n",
        "    @abstractmethod\n",
        "    def fun2(self):\n",
        "        pass\n",
        "\n",
        "class B(A):\n",
        "    def fun1(self):\n",
        "        super().fun1()\n",
        "    def fun2(self):\n",
        "        print(\"function 2 called\")\n",
        "o = B()\n",
        "o.fun1()"
      ],
      "execution_count": 12,
      "outputs": [
        {
          "output_type": "stream",
          "text": [
            "function of class A called\n"
          ],
          "name": "stdout"
        }
      ]
    },
    {
      "cell_type": "markdown",
      "metadata": {
        "id": "KQkm22ivBv4L",
        "colab_type": "text"
      },
      "source": [
        "**Exceptional Handling**"
      ]
    },
    {
      "cell_type": "code",
      "metadata": {
        "id": "vpZS6OAhBzrF",
        "colab_type": "code",
        "colab": {
          "base_uri": "https://localhost:8080/",
          "height": 119
        },
        "outputId": "4a28487a-3718-4f40-f373-d9314f1da0e8"
      },
      "source": [
        "while True:\n",
        "    try:\n",
        "        n = input('Enter the Numerator: ')\n",
        "        num = int(n)\n",
        "        n = input('Enter the Denominator: ')\n",
        "        denom =  int(n)\n",
        "        \n",
        "        value = num/denom\n",
        "        print(value)\n",
        "        break\n",
        "\n",
        "    except :\n",
        "        print('Numerator and Denominator should be integer')"
      ],
      "execution_count": 15,
      "outputs": [
        {
          "output_type": "stream",
          "text": [
            "Enter the Numerator: 4\n",
            "Enter the Denominator: mn\n",
            "Numerator and Denominator should be integer\n",
            "Enter the Numerator: 1\n",
            "Enter the Denominator: 6\n",
            "0.16666666666666666\n"
          ],
          "name": "stdout"
        }
      ]
    },
    {
      "cell_type": "markdown",
      "metadata": {
        "id": "hs0Ax1bAFefJ",
        "colab_type": "text"
      },
      "source": [
        "**Predicting the Output**"
      ]
    },
    {
      "cell_type": "code",
      "metadata": {
        "id": "-dOITFSVEtK_",
        "colab_type": "code",
        "colab": {
          "base_uri": "https://localhost:8080/",
          "height": 34
        },
        "outputId": "fb5d2cae-87b0-4030-8d15-4d89c5359db5"
      },
      "source": [
        "try:\n",
        "    a = 10\n",
        "    b = 0\n",
        "    c = a/b\n",
        "    print(c)\n",
        "except ZeroDivisionError:\n",
        "    print(\"Exception occured\")"
      ],
      "execution_count": 17,
      "outputs": [
        {
          "output_type": "stream",
          "text": [
            "Exception occured\n"
          ],
          "name": "stdout"
        }
      ]
    },
    {
      "cell_type": "code",
      "metadata": {
        "id": "1QNG_gYPMkLW",
        "colab_type": "code",
        "colab": {
          "base_uri": "https://localhost:8080/",
          "height": 170
        },
        "outputId": "d92c7a04-6083-4b19-92bd-b2b2395c0a47"
      },
      "source": [
        "while True:\n",
        "    try:\n",
        "        n = input('Enter the Numerator: ')\n",
        "        num = int(n)\n",
        "        n = input('Enter the Denominator: ')\n",
        "        denom =  int(n)\n",
        "        \n",
        "        value = num/denom\n",
        "        print(value)\n",
        "        break\n",
        "\n",
        "    except ValueError:\n",
        "        print('Numerator and Denominator should be integer')\n",
        "    except ZeroDivisionError:\n",
        "        print('Denominator should not be zero')"
      ],
      "execution_count": 18,
      "outputs": [
        {
          "output_type": "stream",
          "text": [
            "Enter the Numerator: 3\n",
            "Enter the Denominator: anr\n",
            "Numerator and Denominator should be integer\n",
            "Enter the Numerator: 6\n",
            "Enter the Denominator: 0\n",
            "Denominator should not be zero\n",
            "Enter the Numerator: 4\n",
            "Enter the Denominator: 9\n",
            "0.4444444444444444\n"
          ],
          "name": "stdout"
        }
      ]
    },
    {
      "cell_type": "code",
      "metadata": {
        "id": "Hc4H9KRwNJoA",
        "colab_type": "code",
        "colab": {
          "base_uri": "https://localhost:8080/",
          "height": 119
        },
        "outputId": "0ae79d39-c9f8-42e1-a5a3-f998bbd13ab8"
      },
      "source": [
        "class ZeroDenominatorError(Exception):\n",
        "    pass\n",
        "\n",
        "while True:\n",
        "    try:\n",
        "        n = input('Enter the Numerator: ')\n",
        "        num = int(n)\n",
        "        n = input('Enter the Denominator: ')\n",
        "        denom =  int(n)\n",
        "        if denom == 0:\n",
        "            raise ZeroDenominatorError('Denominator should not be zero')\n",
        "        value = num/denom\n",
        "        print(value)\n",
        "        break\n",
        "\n",
        "    except ValueError:\n",
        "        print('Numerator and Denominator should be integer')\n",
        "    except ZeroDivisionError:\n",
        "        print('Denominator should not be zero')\n",
        "    except ZeroDenominatorError:\n",
        "        print('ZeroDenominatorError is Raised')"
      ],
      "execution_count": 19,
      "outputs": [
        {
          "output_type": "stream",
          "text": [
            "Enter the Numerator: 5\n",
            "Enter the Denominator: 0\n",
            "ZeroDenominatorError is Raised\n",
            "Enter the Numerator: 3\n",
            "Enter the Denominator: 7\n",
            "0.42857142857142855\n"
          ],
          "name": "stdout"
        }
      ]
    },
    {
      "cell_type": "markdown",
      "metadata": {
        "id": "igePJrXu0cDh",
        "colab_type": "text"
      },
      "source": [
        "**Predicting the Output**"
      ]
    },
    {
      "cell_type": "code",
      "metadata": {
        "id": "kiAv4pIU0flW",
        "colab_type": "code",
        "colab": {
          "base_uri": "https://localhost:8080/",
          "height": 34
        },
        "outputId": "f4c6eed3-2734-45c6-d02e-521cb0af7c32"
      },
      "source": [
        "class ZeroDenominatorError(ZeroDivisionError):\n",
        "    pass\n",
        "try:\n",
        "    a = 10\n",
        "    b = 0\n",
        "    if(b==0):\n",
        "        raise ZeroDenominatorError()\n",
        "    c = a/b\n",
        "except ZeroDivisionError:\n",
        "    print('Zero Division Error occured',end= ' ')\n",
        "except ZeroDenominatorError:\n",
        "    print('Zero Denominator Error occured',end = ' ')\n",
        "else:\n",
        "    print('else works')"
      ],
      "execution_count": 21,
      "outputs": [
        {
          "output_type": "stream",
          "text": [
            "Zero Division Error occured "
          ],
          "name": "stdout"
        }
      ]
    },
    {
      "cell_type": "code",
      "metadata": {
        "id": "38Va05Vs0tVZ",
        "colab_type": "code",
        "colab": {
          "base_uri": "https://localhost:8080/",
          "height": 34
        },
        "outputId": "be9485dc-f7ef-4682-e2e2-4bd7c7bce72c"
      },
      "source": [
        "class ZeroDenominatorError(ZeroDivisionError):\n",
        "    pass\n",
        "try:\n",
        "    a = 10\n",
        "    b = 5\n",
        "    if(b==0):\n",
        "        raise ZeroDenominatorError()\n",
        "    c = a/b\n",
        "except ZeroDivisionError:\n",
        "    print('Zero Division Error occured',end= ' ')\n",
        "except ZeroDenominatorError:\n",
        "    print('Zero Denominator Error occured',end = ' ')\n",
        "else:\n",
        "    print('else works')"
      ],
      "execution_count": 22,
      "outputs": [
        {
          "output_type": "stream",
          "text": [
            "else works\n"
          ],
          "name": "stdout"
        }
      ]
    }
  ]
}